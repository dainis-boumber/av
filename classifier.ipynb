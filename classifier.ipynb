{
 "cells": [
  {
   "cell_type": "markdown",
   "metadata": {
    "colab_type": "text",
    "id": "view-in-github"
   },
   "source": [
    "<a href=\"https://colab.research.google.com/github/dainis-boumber/av/blob/master/classifier.ipynb\" target=\"_parent\"><img src=\"https://colab.research.google.com/assets/colab-badge.svg\" alt=\"Open In Colab\"/></a>"
   ]
  },
  {
   "cell_type": "markdown",
   "metadata": {
    "colab_type": "text",
    "id": "k0MtjbpmXqU6"
   },
   "source": [
    "# ULMFiT + Siamese Network for Sentence Vectors\n",
    "## Part Three: Classifying\n",
    "\n",
    "The second notebook created a new language model from the SNLI dataset.\n",
    "This notebook will adapt that model to predicting the SNLI category for sentence pairs.\n",
    "The model will be used as a sentence encoder for a Siamese Network that builds sentence vectors that are feed into a classifier network."
   ]
  },
  {
   "cell_type": "code",
   "execution_count": null,
   "metadata": {
    "ExecuteTime": {
     "end_time": "2019-03-08T10:00:07.186550Z",
     "start_time": "2019-03-08T10:00:03.575633Z"
    },
    "colab": {},
    "colab_type": "code",
    "id": "UUq8rjR8XqU7"
   },
   "outputs": [],
   "source": [
    "%reload_ext autoreload\n",
    "%autoreload 2\n",
    "%matplotlib inline\n",
    "from ipyexperiments import *\n",
    "import fastai\n",
    "from fastai.text import *\n",
    "import html\n",
    "import json\n",
    "import html\n",
    "import re\n",
    "import pickle\n",
    "from collections import Counter\n",
    "import random\n",
    "import pandas as pd\n",
    "import numpy as np\n",
    "from pathlib import Path\n",
    "import sklearn\n",
    "from sklearn import model_selection\n",
    "from functools import partial\n",
    "from collections import Counter, defaultdict\n",
    "import random\n",
    "\n",
    "import numpy as np\n",
    "import torch\n",
    "import torch.nn as nn\n",
    "import torch.utils \n",
    "import torch.optim as optim\n",
    "import torch.optim.lr_scheduler as lr_scheduler\n",
    "from torch.utils.data import dataset, dataloader\n",
    "import torch.optim as optim\n",
    "import torch.nn.functional as F\n",
    "\n",
    "import time\n",
    "import math\n",
    "import sys\n",
    "import data\n",
    "import joblib\n",
    "\n",
    "token_files = './data/PAN14/tokens/'\n",
    "model_files = './data/PAN14/models/'\n",
    "TRAINDATAPATH = \"./data/PAN14/pan14_train_english-essays/\"\n",
    "TESTDATAPATH = \"./data/PAN14/pan14_test02_english-essays/\"\n",
    "FNAMES = ['known01','known02','known03','known04','known05', 'unknown']\n",
    "KCOLS=['known01','known02','known03','known04','known05']\n",
    "LABELCOL=\"answer\"\n",
    "UNKOWN=\"unknown\""
   ]
  },
  {
   "cell_type": "code",
   "execution_count": null,
   "metadata": {
    "ExecuteTime": {
     "end_time": "2019-03-08T10:00:07.544535Z",
     "start_time": "2019-03-08T10:00:07.189933Z"
    },
    "colab": {},
    "colab_type": "code",
    "id": "dgImKlPWXqU-"
   },
   "outputs": [],
   "source": [
    "doc_pairs_train=joblib.load(f'{model_files}traindf-2.pkl')\n",
    "doc_pairs_val=joblib.load(f'{model_files}valdf-2.pkl')\n",
    "doc_pairs_test=joblib.load(f'{model_files}testdf-2.pkl')"
   ]
  },
  {
   "cell_type": "code",
   "execution_count": null,
   "metadata": {
    "colab": {},
    "colab_type": "code",
    "id": "CfGTrCjkXqVI"
   },
   "outputs": [],
   "source": [
    "data_lm = TextLMDataBunch.load(model_files)\n",
    "data_clf1 = TextClasDataBunch.from_df(model_files, doc_pairs_train, doc_pairs_val, doc_pairs_test,\n",
    "                                vocab=data_lm.train_ds.vocab, bs=64,\n",
    "                                  text_cols=['known', 'unknown'], label_cols=['label'], mark_fields=True)\n",
    "\n",
    "data_clf1.save()          \n",
    "data_clf1 = TextClasDataBunch.load(model_files, bs=64)\n",
    "learn1 = text_classifier_learner(data_clf1, drop_mult=0.5)\n",
    "learn1.load_encoder('healthy_enc')\n",
    "learn1.lr_find()\n",
    "learn1.recorder.plot()\n",
    "\n",
    "\n",
    "exp1=IPyExperimentsPytorch()\n",
    "learn1.fit_one_cycle(1, slice(1e-03, 1e-02), wd=1e-05)\n",
    "learn1.fit_one_cycle(1, slice(1e-03/10, 1e-02), wd=1e-04)\n",
    "learn1.fit_one_cycle(2, slice(1e-04/100, 1e-02), wd=1e-03)\n",
    "\n",
    "learn1.save('init_av_clf1')"
   ]
  },
  {
   "cell_type": "code",
   "execution_count": null,
   "metadata": {
    "colab": {},
    "colab_type": "code",
    "id": "0-TYUAZMXqVK"
   },
   "outputs": [],
   "source": [
    "data_lm = TextLMDataBunch.load(model_files)\n",
    "data_clf2 = TextClasDataBunch.from_df(model_files, doc_pairs_train, doc_pairs_val, doc_pairs_test,\n",
    "                                vocab=data_lm.train_ds.vocab, bs=64,\n",
    "                                  text_cols=['known', 'unknown'], \n",
    "                                      label_cols=['label'], \n",
    "                                      mark_fields=True\n",
    "                                     qrnn=True)\n",
    "\n",
    "data_clf2.save()          \n",
    "data_clf2 = TextClasDataBunch.load(model_files, bs=64)\n",
    "learn2 = text_classifier_learner(data_clf2, drop_mult=0.5)\n",
    "learn2.load_encoder('healthy_enc')\n",
    "learn2.lr_find()\n",
    "learn2.recorder.plot()\n",
    "\n",
    "\n",
    "exp2=IPyExperimentsPytorch()\n",
    "learn2.fit_one_cycle(1, slice(1e-03, 1e-02), wd=1e-05)\n",
    "learn2.fit_one_cycle(1, slice(1e-03/10, 1e-02), wd=1e-04)\n",
    "learn2.fit_one_cycle(2, slice(1e-04/100, 1e-02), wd=1e-03)\n",
    "learn2.save('data_clf2')"
   ]
  },
  {
   "cell_type": "code",
   "execution_count": null,
   "metadata": {
    "colab": {},
    "colab_type": "code",
    "id": "TaZa5V2BXqVN",
    "outputId": "ff093a48-8a38-404a-f756-f14914f61557"
   },
   "outputs": [],
   "source": [
    "preds1, y1 = np.array(learn1.get_preds())\n",
    "preds2, y2 = np.array(learn2.get_preds())\n",
    "preds1b, y1b = np.load('data_clf1b')\n",
    "preds2b, y2b = np.load('data_clf2b')\n",
    "\n",
    "# all y are == so\n",
    "y = y1\n",
    "preds = np.hstack((preds1, preds2, preds1b, preds2b))"
   ]
  },
  {
   "cell_type": "code",
   "execution_count": null,
   "metadata": {},
   "outputs": [],
   "source": [
    "from sklearn.linear_model import LogisticRegression\n",
    "\n",
    "def m(y):\n",
    "    def proba(y_i, y):\n",
    "        p = x[y==y_i].sum(0)\n",
    "        return (p+1) / ((y==y_i).sum()+1)\n",
    "    y = y.values\n",
    "    r = np.log(proba(1,y) / proba(0,y))\n",
    "    m = LogisticRegression(C=4, dual=True)\n",
    "    x_nb = x.multiply(r)\n",
    "    return m.fit(x_nb, y), r\n",
    "\n",
    "probas = np.zeros((len(test),1))\n",
    "lbls = np.zeros((len(test),1))\n",
    "m,r = get_mdl(train)\n",
    "probas[:,0] = m.predict_proba(test_x.multiply(r))[:,0]\n",
    "mu = np.average(probas) # we can do average here or we can go with 0.5 or wecan just report \n",
    "# probabilities like recommended by the PAN, whichever works best for specific validation \n",
    "# set\n",
    "for i, prb in enumerate(probas):\n",
    "    if prb > mu:\n",
    "        lbls[i] = 1\n",
    "    else:\n",
    "        lbls[i] = 0\n",
    "\n"
   ]
  },
  {
   "cell_type": "code",
   "execution_count": null,
   "metadata": {},
   "outputs": [],
   "source": []
  },
  {
   "cell_type": "code",
   "execution_count": null,
   "metadata": {
    "colab": {},
    "colab_type": "code",
    "id": "0j240bnqXqVT",
    "outputId": "9077e2f8-9413-4644-b6db-e87d35c4825f"
   },
   "outputs": [],
   "source": []
  },
  {
   "cell_type": "code",
   "execution_count": null,
   "metadata": {},
   "outputs": [],
   "source": []
  },
  {
   "cell_type": "code",
   "execution_count": null,
   "metadata": {},
   "outputs": [],
   "source": []
  },
  {
   "cell_type": "code",
   "execution_count": null,
   "metadata": {},
   "outputs": [],
   "source": []
  },
  {
   "cell_type": "code",
   "execution_count": null,
   "metadata": {
    "colab": {},
    "colab_type": "code",
    "id": "xIMdePB_XqVe"
   },
   "outputs": [],
   "source": []
  }
 ],
 "metadata": {
  "colab": {
   "include_colab_link": true,
   "name": "classifier.ipynb",
   "provenance": [],
   "toc_visible": true,
   "version": "0.3.2"
  },
  "kernelspec": {
   "display_name": "Python 3",
   "language": "python",
   "name": "python3"
  },
  "language_info": {
   "codemirror_mode": {
    "name": "ipython",
    "version": 3
   },
   "file_extension": ".py",
   "mimetype": "text/x-python",
   "name": "python",
   "nbconvert_exporter": "python",
   "pygments_lexer": "ipython3",
   "version": "3.6.6"
  }
 },
 "nbformat": 4,
 "nbformat_minor": 1
}
