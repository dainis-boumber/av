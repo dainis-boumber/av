{
 "cells": [
  {
   "cell_type": "markdown",
   "metadata": {
    "colab_type": "text",
    "id": "view-in-github"
   },
   "source": [
    "<a href=\"https://colab.research.google.com/github/dainis-boumber/av/blob/master/pretrain_av.ipynb\" target=\"_parent\"><img src=\"https://colab.research.google.com/assets/colab-badge.svg\" alt=\"Open In Colab\"/></a>"
   ]
  },
  {
   "cell_type": "markdown",
   "metadata": {
    "colab_type": "text",
    "id": "ZNmeh0h4UYSR"
   },
   "source": [
    "# ULMFiT + Siamese Network for Sentence Vectors\n",
    "## Part One: Tokenizing\n",
    "This notebook will tokenize the sentences from the SNLI dataset for use in the next notebook\n",
    "\n",
    "### You must have the fastai library installed"
   ]
  },
  {
   "cell_type": "code",
   "execution_count": 10,
   "metadata": {
    "colab": {},
    "colab_type": "code",
    "id": "91TjIhFCUYSS"
   },
   "outputs": [],
   "source": [
    "%reload_ext autoreload\n",
    "%autoreload 2\n",
    "%matplotlib inline\n",
    "from ipyexperiments import *\n",
    "from fastai.text import *\n",
    "from fastai import *\n",
    "import json\n",
    "import html\n",
    "import re\n",
    "import pickle\n",
    "import random\n",
    "import pandas as pd\n",
    "import numpy as np\n",
    "from pathlib import Path\n",
    "import sklearn\n",
    "from sklearn import model_selection\n",
    "from functools import partial\n",
    "from collections import Counter, defaultdict\n",
    "from pandas.io.json import json_normalize\n",
    "import numpy as np\n",
    "import torch\n",
    "import torch.nn as nn\n",
    "import torch.utils \n",
    "import torch.optim as optim\n",
    "import torch.optim.lr_scheduler as lr_scheduler\n",
    "from torch.utils.data import dataset, dataloader\n",
    "import torch.optim as optim\n",
    "import torch.nn.functional as F\n",
    "from nltk.tokenize import sent_tokenize\n",
    "import time\n",
    "import math\n",
    "import sys\n",
    "import data\n",
    "import joblib\n",
    "\n",
    "token_files = './data/PAN14/tokens/'\n",
    "model_files = './data/PAN14/models/'\n",
    "TRAINDATAPATH = \"./data/PAN14/pan14_train_english-essays/\"\n",
    "TESTDATAPATH = \"./data/PAN14/pan14_test01_english-essays/\"\n",
    "FNAMES = ['known01','known02','known03','known04','known05', 'unknown']\n",
    "KCOLS=['known01','known02','known03','known04','known05']\n",
    "LABELCOL=\"answer\"\n",
    "UNKOWN=\"unknown\"\n"
   ]
  },
  {
   "cell_type": "code",
   "execution_count": 7,
   "metadata": {
    "colab": {},
    "colab_type": "code",
    "id": "O1A7heLLUYSZ"
   },
   "outputs": [],
   "source": [
    "BOD = 'x_bod' # beginning-of-doc tag\n",
    "\n",
    "re1 = re.compile(r'  +')\n",
    "\n",
    "def fixup(x):\n",
    "    x = x.replace('#39;', \"'\").replace('amp;', '&').replace('#146;', \"'\").replace(\n",
    "        'nbsp;', ' ').replace('#36;', '$').replace('\\\\n', \"\\n\").replace('quot;', \"'\").replace(\n",
    "        '<br />', \"\\n\").replace('\\\\\"', '\"').replace('<unk>','u_n').replace(' @.@ ','.').replace(\n",
    "        ' @-@ ','-').replace('\\\\', ' \\\\ ')\n",
    "    return re1.sub(' ', html.unescape(x))\n",
    "\n",
    "def read_dataset(path):\n",
    "    ds=pd.read_json(path+'/truth.json')\n",
    "    ds=json_normalize(ds['problems'])\n",
    "    ds['known01']=None\n",
    "    ds['known02']=None\n",
    "    ds['known03']=None\n",
    "    ds['known04']=None\n",
    "    ds['known05']=None\n",
    "    ds['unknown']=None\n",
    "    ds.set_index('name', drop=True, inplace=True)\n",
    "    ds=ds[['known01','known02','known03','known04','known05', 'unknown', 'answer']]\n",
    "    dirs = []\n",
    "    docs = []\n",
    "\n",
    "    for i, x in enumerate(os.walk(path)):\n",
    "        if i:\n",
    "            for fname in x[2]:\n",
    "                with open(path+dirs[i-1]+'/'+fname, 'r') as f:\n",
    "                    text = f.read().strip()\n",
    "                    doc = BOD.join(sent_tokenize(text))\n",
    "                    docs.append(doc)\n",
    "                    ds.loc[dirs[i-1],fname[:-4]]=doc\n",
    "        else:\n",
    "            dirs = x[1]\n",
    "\n",
    "    return ds, docs\n",
    "\n",
    "def match_unknowns(path):\n",
    "    ds=pd.read_json(path+'/truth.json')\n",
    "    ds=json_normalize(ds['problems'])\n",
    "    ds['known01']=None\n",
    "    ds['known02']=None\n",
    "    ds['known03']=None\n",
    "    ds['known04']=None\n",
    "    ds['known05']=None\n",
    "    ds['unknown']=None\n",
    "    ds.set_index('name', drop=True, inplace=True)\n",
    "    ds=ds[['known01','known02','known03','known04','known05', 'unknown', 'answer']]\n",
    "    dirs = []\n",
    "    docs = []\n",
    "\n",
    "    ds, _ = read_dataset(path)\n",
    "            \n",
    "    grouped=ds.groupby(['unknown'])\n",
    "    dupes=[]\n",
    "    for utext, group in grouped:\n",
    "        if len(group.index) > 1:\n",
    "            dupes.append(group)\n",
    "\n",
    "\n",
    "    newrows=pd.DataFrame(columns=['known01','known02','known03','known04','known05', 'unknown'])\n",
    "    for dupe in dupes:\n",
    "        dupe.reset_index(drop=True, inplace=True)\n",
    "        yes=dupe.loc[dupe.answer == \"Y\"]\n",
    "        yes.reset_index(drop=True, inplace=True)\n",
    "        no=dupe.loc[dupe.answer == \"N\"]\n",
    "        no.reset_index(drop=True, inplace=True)\n",
    "        for col in ['known01','known02','known03','known04','known05']:\n",
    "            if no[col] is not None:\n",
    "                newrows=newrows.append(pd.DataFrame(data={'known01':yes.known01,'known02':yes.known02,\n",
    "                                                          'known03':yes.known03, 'known04':yes.known04,\n",
    "                                                          'known05':yes.known05,'unknown':no[col], \n",
    "                                                          'answer':'N'}), sort=False)\n",
    "    newrows=newrows.dropna(subset=['unknown'])\n",
    "    df = pd.concat([ds, newrows])\n",
    "    for col in FNAMES:\n",
    "        \n",
    "        docs.extend(df[col].tolist())\n",
    "    docs=[d for d in docs if d is not None]\n",
    "    return df, docs\n",
    "\n",
    "def load_sentence_pairs(df):\n",
    "   \n",
    "    s0s = []\n",
    "    s1s = []\n",
    "    labels = [1 if label == 'Y' else 0 for label in df[LABELCOL].tolist()]\n",
    "    \n",
    "    y=[]\n",
    "    unknowns = df[UNKOWN].tolist()\n",
    "    for i, label in enumerate(labels):\n",
    "        for col in KCOLS:\n",
    "            knowns = df[col].tolist()\n",
    "\n",
    "            s0 = knowns[i]\n",
    "            if s0 is not None:\n",
    "                s1 = unknowns[i]\n",
    "                s0s.append(s0)\n",
    "                s1s.append(s1)\n",
    "                y.append(label)\n",
    "    pairs=pd.DataFrame(data={\"known\":s0s, \"unknown\":s1s, \"label\":y})\n",
    "    return pairs  \n",
    "\n",
    "\n"
   ]
  },
  {
   "cell_type": "code",
   "execution_count": 102,
   "metadata": {
    "colab": {},
    "colab_type": "code",
    "id": "VQxSVlicUYSf",
    "outputId": "1f5b035d-4b90-4ad3-c440-2cb960e2d70f"
   },
   "outputs": [
    {
     "name": "stdout",
     "output_type": "stream",
     "text": [
      "･ RAM: △Consumed △Peaked  Used Total | Exec time 0:00:21.849\n",
      "･ CPU:        56      54     2885 MB |\n",
      "･ GPU:         1       0     2236 MB |\n"
     ]
    }
   ],
   "source": [
    "df_train, docs = match_unknowns(TRAINDATAPATH)\n",
    "df_test, _ = read_dataset(TESTDATAPATH)\n",
    "\n",
    "sentence_pairs_train = load_sentence_pairs(df_train)\n",
    "sentence_pairs_val = load_sentence_pairs(df_test)\n",
    "sentence_pairs_test = load_sentence_pairs(df_test)\n",
    "\n",
    "joblib.dump(sentence_pairs_train, f'{model_files}traindf.pkl')\n",
    "joblib.dump(sentence_pairs_val, f'{model_files}valdf.pkl')\n",
    "joblib.dump(sentence_pairs_test, f'{model_files}testdf.pkl')\n",
    "\n",
    "sentence_pairs_train['label']=0\n",
    "sentence_pairs_val['label']=0\n",
    "sentence_pairs_test['label']=0\n",
    "\n",
    "# Language model data\n",
    "data_lm = TextLMDataBunch.from_df(model_files, sentence_pairs_train, sentence_pairs_val, sentence_pairs_test,\n",
    "                                  text_cols=['known', 'unknown'], label_cols=['label'], mark_fields=True, \n",
    "                                  min_freq=5, bs=32)\n",
    "data_lm.save()  "
   ]
  },
  {
   "cell_type": "code",
   "execution_count": 118,
   "metadata": {
    "colab": {},
    "colab_type": "code",
    "id": "7hlEqcmpUYSu",
    "outputId": "001641f8-8e96-4379-bf16-37f1f7350c64"
   },
   "outputs": [
    {
     "name": "stdout",
     "output_type": "stream",
     "text": [
      "LR Finder is complete, type {learner_name}.recorder.plot() to see the graph.\n"
     ]
    },
    {
     "data": {
      "image/png": "[encoded data removed]",
      "text/plain": [
       "<Figure size 432x288 with 1 Axes>"
      ]
     },
     "metadata": {
      "needs_background": "light"
     },
     "output_type": "display_data"
    },
    {
     "name": "stdout",
     "output_type": "stream",
     "text": [
      "･ RAM: △Consumed △Peaked  Used Total | Exec time 0:00:15.949\n",
      "･ CPU:         0       0     2857 MB |\n",
      "･ GPU:       230     786     2824 MB |\n"
     ]
    }
   ],
   "source": [
    "exp1=IPyExperimentsPytorch()\n",
    "data_lm = TextLMDataBunch.load(model_files)\n",
    "learn = language_model_learner(data_lm, pretrained_model=URLs.WT103_1, drop_mult=1.0, metrics=[accuracy],\n",
    "                              callback_fns=ShowGraph)\n",
    "#learn.metrics=[accuracy]\n",
    "learn.lr_find()\n",
    "learn.recorder.plot()"
   ]
  },
  {
   "cell_type": "code",
   "execution_count": 104,
   "metadata": {},
   "outputs": [
    {
     "data": {
      "text/html": [
       "Total time: 01:55 <p><table style='width:300px; margin-bottom:10px'>\n",
       "  <tr>\n",
       "    <th>epoch</th>\n",
       "    <th>train_loss</th>\n",
       "    <th>valid_loss</th>\n",
       "    <th>accuracy</th>\n",
       "  </tr>\n",
       "  <tr>\n",
       "    <th>1</th>\n",
       "    <th>4.463900</th>\n",
       "    <th>4.021371</th>\n",
       "    <th>0.245187</th>\n",
       "  </tr>\n",
       "  <tr>\n",
       "    <th>2</th>\n",
       "    <th>4.072473</th>\n",
       "    <th>3.919279</th>\n",
       "    <th>0.251615</th>\n",
       "  </tr>\n",
       "  <tr>\n",
       "    <th>3</th>\n",
       "    <th>3.928713</th>\n",
       "    <th>3.886729</th>\n",
       "    <th>0.256254</th>\n",
       "  </tr>\n",
       "</table>\n"
      ],
      "text/plain": [
       "<IPython.core.display.HTML object>"
      ]
     },
     "metadata": {},
     "output_type": "display_data"
    },
    {
     "data": {
      "image/png": "[encoded data removed]",
      "text/plain": [
       "<Figure size 432x288 with 1 Axes>"
      ]
     },
     "metadata": {},
     "output_type": "display_data"
    },
    {
     "name": "stdout",
     "output_type": "stream",
     "text": [
      "･ RAM: △Consumed △Peaked  Used Total | Exec time 0:01:55.883\n",
      "･ CPU:         0       1     2817 MB |\n",
      "･ GPU:      -123     650     2248 MB |\n"
     ]
    }
   ],
   "source": [
    "learn.fit_one_cycle(3, max_lr=slice(3e-3,1e-2))"
   ]
  },
  {
   "cell_type": "code",
   "execution_count": 105,
   "metadata": {},
   "outputs": [
    {
     "name": "stdout",
     "output_type": "stream",
     "text": [
      "･ RAM: △Consumed △Peaked  Used Total | Exec time 0:00:00.073\n",
      "･ CPU:         0       0     2817 MB |\n",
      "･ GPU:        -3       0     2244 MB |\n"
     ]
    }
   ],
   "source": [
    "learn.save_encoder('4ft_enc1')"
   ]
  },
  {
   "cell_type": "code",
   "execution_count": 106,
   "metadata": {},
   "outputs": [
    {
     "name": "stdout",
     "output_type": "stream",
     "text": [
      "LR Finder is complete, type {learner_name}.recorder.plot() to see the graph.\n"
     ]
    },
    {
     "data": {
      "image/png": "[encoded data removed]",
      "text/plain": [
       "<Figure size 432x288 with 1 Axes>"
      ]
     },
     "metadata": {
      "needs_background": "light"
     },
     "output_type": "display_data"
    },
    {
     "name": "stdout",
     "output_type": "stream",
     "text": [
      "･ RAM: △Consumed △Peaked  Used Total | Exec time 0:00:18.678\n",
      "･ CPU:         0       2     2817 MB |\n",
      "･ GPU:        46     964     2290 MB |\n"
     ]
    }
   ],
   "source": [
    "learn.unfreeze()\n",
    "learn.lr_find()\n",
    "learn.recorder.plot()"
   ]
  },
  {
   "cell_type": "code",
   "execution_count": 107,
   "metadata": {
    "colab": {},
    "colab_type": "code",
    "id": "a1xfLHl8UYSx",
    "outputId": "f08c05e9-b5b5-4680-f25a-4ba938ff5396"
   },
   "outputs": [
    {
     "data": {
      "text/html": [
       "Total time: 02:27 <p><table style='width:300px; margin-bottom:10px'>\n",
       "  <tr>\n",
       "    <th>epoch</th>\n",
       "    <th>train_loss</th>\n",
       "    <th>valid_loss</th>\n",
       "    <th>accuracy</th>\n",
       "  </tr>\n",
       "  <tr>\n",
       "    <th>1</th>\n",
       "    <th>3.842955</th>\n",
       "    <th>3.872503</th>\n",
       "    <th>0.257927</th>\n",
       "  </tr>\n",
       "  <tr>\n",
       "    <th>2</th>\n",
       "    <th>3.853006</th>\n",
       "    <th>3.862679</th>\n",
       "    <th>0.259168</th>\n",
       "  </tr>\n",
       "  <tr>\n",
       "    <th>3</th>\n",
       "    <th>3.838707</th>\n",
       "    <th>3.856399</th>\n",
       "    <th>0.259673</th>\n",
       "  </tr>\n",
       "</table>\n"
      ],
      "text/plain": [
       "<IPython.core.display.HTML object>"
      ]
     },
     "metadata": {},
     "output_type": "display_data"
    },
    {
     "data": {
      "image/png": "[encoded data removed]",
      "text/plain": [
       "<Figure size 432x288 with 1 Axes>"
      ]
     },
     "metadata": {},
     "output_type": "display_data"
    },
    {
     "data": {
      "image/png": "[encoded data removed]",
      "text/plain": [
       "<Figure size 432x288 with 1 Axes>"
      ]
     },
     "metadata": {
      "needs_background": "light"
     },
     "output_type": "display_data"
    },
    {
     "name": "stdout",
     "output_type": "stream",
     "text": [
      "･ RAM: △Consumed △Peaked  Used Total | Exec time 0:02:27.914\n",
      "･ CPU:         1       1     2817 MB |\n",
      "･ GPU:       -72    1011     2217 MB |\n"
     ]
    }
   ],
   "source": [
    "learn.fit(3, lr=slice(5e-6, 5e-5))\n",
    "#learn.fit(epochs=1, 2e-2,)\n",
    "learn.recorder.plot_lr(show_moms=False)\n"
   ]
  },
  {
   "cell_type": "code",
   "execution_count": 108,
   "metadata": {},
   "outputs": [
    {
     "data": {
      "text/html": [
       "Total time: 04:54 <p><table style='width:300px; margin-bottom:10px'>\n",
       "  <tr>\n",
       "    <th>epoch</th>\n",
       "    <th>train_loss</th>\n",
       "    <th>valid_loss</th>\n",
       "    <th>accuracy</th>\n",
       "  </tr>\n",
       "  <tr>\n",
       "    <th>1</th>\n",
       "    <th>3.681691</th>\n",
       "    <th>3.786463</th>\n",
       "    <th>0.269662</th>\n",
       "  </tr>\n",
       "  <tr>\n",
       "    <th>2</th>\n",
       "    <th>3.482540</th>\n",
       "    <th>3.707646</th>\n",
       "    <th>0.282991</th>\n",
       "  </tr>\n",
       "  <tr>\n",
       "    <th>3</th>\n",
       "    <th>3.175068</th>\n",
       "    <th>3.662741</th>\n",
       "    <th>0.294206</th>\n",
       "  </tr>\n",
       "  <tr>\n",
       "    <th>4</th>\n",
       "    <th>2.884448</th>\n",
       "    <th>3.605798</th>\n",
       "    <th>0.302571</th>\n",
       "  </tr>\n",
       "  <tr>\n",
       "    <th>5</th>\n",
       "    <th>2.656772</th>\n",
       "    <th>3.574438</th>\n",
       "    <th>0.308609</th>\n",
       "  </tr>\n",
       "  <tr>\n",
       "    <th>6</th>\n",
       "    <th>2.588931</th>\n",
       "    <th>3.582839</th>\n",
       "    <th>0.308854</th>\n",
       "  </tr>\n",
       "</table>\n"
      ],
      "text/plain": [
       "<IPython.core.display.HTML object>"
      ]
     },
     "metadata": {},
     "output_type": "display_data"
    },
    {
     "data": {
      "image/png": "[encoded data removed]",
      "text/plain": [
       "<Figure size 432x288 with 1 Axes>"
      ]
     },
     "metadata": {},
     "output_type": "display_data"
    },
    {
     "name": "stdout",
     "output_type": "stream",
     "text": [
      "･ RAM: △Consumed △Peaked  Used Total | Exec time 0:04:54.020\n",
      "･ CPU:         1       1     2817 MB |\n",
      "･ GPU:        16     908     2234 MB |\n"
     ]
    }
   ],
   "source": [
    "learn.fit_one_cycle(6, 3e-3)"
   ]
  },
  {
   "cell_type": "code",
   "execution_count": 109,
   "metadata": {},
   "outputs": [
    {
     "name": "stdout",
     "output_type": "stream",
     "text": [
      "･ RAM: △Consumed △Peaked  Used Total | Exec time 0:00:00.074\n",
      "･ CPU:         0       0     2817 MB |\n",
      "･ GPU:         0       0     2234 MB |\n"
     ]
    }
   ],
   "source": [
    "learn.save_encoder('4ft_enc2')"
   ]
  },
  {
   "cell_type": "code",
   "execution_count": 119,
   "metadata": {},
   "outputs": [
    {
     "name": "stdout",
     "output_type": "stream",
     "text": [
      "･ RAM: △Consumed △Peaked  Used Total | Exec time 0:00:00.052\n",
      "･ CPU:         0       0     2857 MB |\n",
      "･ GPU:         0       0     2824 MB |\n"
     ]
    }
   ],
   "source": [
    "learn.load_encoder('4ft_enc2')"
   ]
  },
  {
   "cell_type": "code",
   "execution_count": 120,
   "metadata": {},
   "outputs": [
    {
     "data": {
      "text/html": [
       "Total time: 01:17 <p><table style='width:300px; margin-bottom:10px'>\n",
       "  <tr>\n",
       "    <th>epoch</th>\n",
       "    <th>train_loss</th>\n",
       "    <th>valid_loss</th>\n",
       "    <th>accuracy</th>\n",
       "  </tr>\n",
       "  <tr>\n",
       "    <th>1</th>\n",
       "    <th>2.645189</th>\n",
       "    <th>3.635471</th>\n",
       "    <th>0.300485</th>\n",
       "  </tr>\n",
       "  <tr>\n",
       "    <th>2</th>\n",
       "    <th>2.607162</th>\n",
       "    <th>3.634758</th>\n",
       "    <th>0.300623</th>\n",
       "  </tr>\n",
       "</table>\n"
      ],
      "text/plain": [
       "<IPython.core.display.HTML object>"
      ]
     },
     "metadata": {},
     "output_type": "display_data"
    },
    {
     "data": {
      "image/png": "[encoded data removed]",
      "text/plain": [
       "<Figure size 432x288 with 1 Axes>"
      ]
     },
     "metadata": {},
     "output_type": "display_data"
    },
    {
     "name": "stdout",
     "output_type": "stream",
     "text": [
      "･ RAM: △Consumed △Peaked  Used Total | Exec time 0:01:17.923\n",
      "･ CPU:         0       1     2857 MB |\n",
      "･ GPU:      -129     980     2695 MB |\n"
     ]
    }
   ],
   "source": [
    "learn.fit_one_cycle(2, 5e-6)"
   ]
  },
  {
   "cell_type": "code",
   "execution_count": 121,
   "metadata": {},
   "outputs": [
    {
     "data": {
      "text/html": [
       "Total time: 07:47 <p><table style='width:300px; margin-bottom:10px'>\n",
       "  <tr>\n",
       "    <th>epoch</th>\n",
       "    <th>train_loss</th>\n",
       "    <th>valid_loss</th>\n",
       "    <th>accuracy</th>\n",
       "  </tr>\n",
       "  <tr>\n",
       "    <th>1</th>\n",
       "    <th>2.607176</th>\n",
       "    <th>3.634956</th>\n",
       "    <th>0.300657</th>\n",
       "  </tr>\n",
       "  <tr>\n",
       "    <th>2</th>\n",
       "    <th>2.595497</th>\n",
       "    <th>3.634369</th>\n",
       "    <th>0.300761</th>\n",
       "  </tr>\n",
       "  <tr>\n",
       "    <th>3</th>\n",
       "    <th>2.554508</th>\n",
       "    <th>3.632691</th>\n",
       "    <th>0.300983</th>\n",
       "  </tr>\n",
       "  <tr>\n",
       "    <th>4</th>\n",
       "    <th>2.566913</th>\n",
       "    <th>3.632739</th>\n",
       "    <th>0.301118</th>\n",
       "  </tr>\n",
       "  <tr>\n",
       "    <th>5</th>\n",
       "    <th>2.578660</th>\n",
       "    <th>3.630370</th>\n",
       "    <th>0.301331</th>\n",
       "  </tr>\n",
       "  <tr>\n",
       "    <th>6</th>\n",
       "    <th>2.590091</th>\n",
       "    <th>3.629920</th>\n",
       "    <th>0.301594</th>\n",
       "  </tr>\n",
       "  <tr>\n",
       "    <th>7</th>\n",
       "    <th>2.618811</th>\n",
       "    <th>3.628730</th>\n",
       "    <th>0.301672</th>\n",
       "  </tr>\n",
       "  <tr>\n",
       "    <th>8</th>\n",
       "    <th>2.607108</th>\n",
       "    <th>3.627614</th>\n",
       "    <th>0.301885</th>\n",
       "  </tr>\n",
       "  <tr>\n",
       "    <th>9</th>\n",
       "    <th>2.567099</th>\n",
       "    <th>3.627672</th>\n",
       "    <th>0.301935</th>\n",
       "  </tr>\n",
       "  <tr>\n",
       "    <th>10</th>\n",
       "    <th>2.601692</th>\n",
       "    <th>3.627504</th>\n",
       "    <th>0.301885</th>\n",
       "  </tr>\n",
       "  <tr>\n",
       "    <th>11</th>\n",
       "    <th>2.616874</th>\n",
       "    <th>3.627211</th>\n",
       "    <th>0.301853</th>\n",
       "  </tr>\n",
       "  <tr>\n",
       "    <th>12</th>\n",
       "    <th>2.595623</th>\n",
       "    <th>3.627361</th>\n",
       "    <th>0.301944</th>\n",
       "  </tr>\n",
       "</table>\n"
      ],
      "text/plain": [
       "<IPython.core.display.HTML object>"
      ]
     },
     "metadata": {},
     "output_type": "display_data"
    },
    {
     "data": {
      "image/png": "[encoded data removed]",
      "text/plain": [
       "<Figure size 432x288 with 1 Axes>"
      ]
     },
     "metadata": {},
     "output_type": "display_data"
    },
    {
     "name": "stdout",
     "output_type": "stream",
     "text": [
      "･ RAM: △Consumed △Peaked  Used Total | Exec time 0:07:47.970\n",
      "･ CPU:         1       1     2857 MB |\n",
      "･ GPU:       -19    1056     2675 MB |\n"
     ]
    }
   ],
   "source": [
    "learn.fit_one_cycle(12, 5e-6)"
   ]
  },
  {
   "cell_type": "code",
   "execution_count": 122,
   "metadata": {},
   "outputs": [
    {
     "name": "stdout",
     "output_type": "stream",
     "text": [
      "･ RAM: △Consumed △Peaked  Used Total | Exec time 0:00:00.069\n",
      "･ CPU:         0       0     2857 MB |\n",
      "･ GPU:         0       0     2676 MB |\n"
     ]
    }
   ],
   "source": [
    "learn.save_encoder('4ft_enc3')"
   ]
  },
  {
   "cell_type": "code",
   "execution_count": null,
   "metadata": {},
   "outputs": [
    {
     "data": {
      "text/html": [
       "\n",
       "    <div>\n",
       "        <style>\n",
       "            /* Turns off some styling */\n",
       "            progress {\n",
       "                /* gets rid of default border in Firefox and Opera. */\n",
       "                border: none;\n",
       "                /* Needs to be in here for Safari polyfill so background images work as expected. */\n",
       "                background-size: auto;\n",
       "            }\n",
       "            .progress-bar-interrupted, .progress-bar-interrupted::-webkit-progress-bar {\n",
       "                background: #F44336;\n",
       "            }\n",
       "        </style>\n",
       "      <progress value='0' class='' max='6', style='width:300px; height:20px; vertical-align: middle;'></progress>\n",
       "      0.00% [0/6 00:00<00:00]\n",
       "    </div>\n",
       "    \n",
       "<table style='width:300px; margin-bottom:10px'>\n",
       "  <tr>\n",
       "    <th>epoch</th>\n",
       "    <th>train_loss</th>\n",
       "    <th>valid_loss</th>\n",
       "    <th>accuracy</th>\n",
       "  </tr>\n",
       "</table>\n",
       "\n",
       "\n",
       "    <div>\n",
       "        <style>\n",
       "            /* Turns off some styling */\n",
       "            progress {\n",
       "                /* gets rid of default border in Firefox and Opera. */\n",
       "                border: none;\n",
       "                /* Needs to be in here for Safari polyfill so background images work as expected. */\n",
       "                background-size: auto;\n",
       "            }\n",
       "            .progress-bar-interrupted, .progress-bar-interrupted::-webkit-progress-bar {\n",
       "                background: #F44336;\n",
       "            }\n",
       "        </style>\n",
       "      <progress value='181' class='' max='232', style='width:300px; height:20px; vertical-align: middle;'></progress>\n",
       "      78.02% [181/232 00:24<00:06 2.5950]\n",
       "    </div>\n",
       "    "
      ],
      "text/plain": [
       "<IPython.core.display.HTML object>"
      ]
     },
     "metadata": {},
     "output_type": "display_data"
    }
   ],
   "source": [
    "learn.fit_one_cycle(6, 3e-3)"
   ]
  },
  {
   "cell_type": "code",
   "execution_count": 100,
   "metadata": {},
   "outputs": [
    {
     "name": "stdout",
     "output_type": "stream",
     "text": [
      "LR Finder is complete, type {learner_name}.recorder.plot() to see the graph.\n"
     ]
    },
    {
     "data": {
      "image/png": "[encoded data removed]",
      "text/plain": [
       "<Figure size 432x288 with 1 Axes>"
      ]
     },
     "metadata": {
      "needs_background": "light"
     },
     "output_type": "display_data"
    },
    {
     "name": "stdout",
     "output_type": "stream",
     "text": [
      "･ RAM: △Consumed △Peaked  Used Total | Exec time 0:00:13.906\n",
      "･ CPU:         0       2     2794 MB |\n",
      "･ GPU:       -84     420     2476 MB |\n"
     ]
    }
   ],
   "source": [
    "learn.freeze_to(-1)\n",
    "learn.lr_find()\n",
    "learn.recorder.plot()"
   ]
  },
  {
   "cell_type": "code",
   "execution_count": 101,
   "metadata": {
    "colab": {},
    "colab_type": "code",
    "id": "Ao7W3VdvUYS1"
   },
   "outputs": [
    {
     "data": {
      "text/html": [
       "Total time: 01:13 <p><table style='width:300px; margin-bottom:10px'>\n",
       "  <tr>\n",
       "    <th>epoch</th>\n",
       "    <th>train_loss</th>\n",
       "    <th>valid_loss</th>\n",
       "    <th>accuracy</th>\n",
       "  </tr>\n",
       "  <tr>\n",
       "    <th>1</th>\n",
       "    <th>3.779546</th>\n",
       "    <th>3.750460</th>\n",
       "    <th>0.265106</th>\n",
       "  </tr>\n",
       "  <tr>\n",
       "    <th>2</th>\n",
       "    <th>3.729872</th>\n",
       "    <th>3.741394</th>\n",
       "    <th>0.266266</th>\n",
       "  </tr>\n",
       "</table>\n"
      ],
      "text/plain": [
       "<IPython.core.display.HTML object>"
      ]
     },
     "metadata": {},
     "output_type": "display_data"
    },
    {
     "data": {
      "image/png": "[encoded data removed]",
      "text/plain": [
       "<Figure size 432x288 with 1 Axes>"
      ]
     },
     "metadata": {},
     "output_type": "display_data"
    },
    {
     "data": {
      "image/png": "[encoded data removed]",
      "text/plain": [
       "<Figure size 864x288 with 2 Axes>"
      ]
     },
     "metadata": {
      "needs_background": "light"
     },
     "output_type": "display_data"
    },
    {
     "name": "stdout",
     "output_type": "stream",
     "text": [
      "･ RAM: △Consumed △Peaked  Used Total | Exec time 0:01:14.253\n",
      "･ CPU:         0       1     2794 MB |\n",
      "･ GPU:      -241     662     2234 MB |\n"
     ]
    }
   ],
   "source": [
    "\n",
    "learn.recorder.plot_lr(show_moms=True)\n",
    "learn.save_encoder('ft_enc3')"
   ]
  },
  {
   "cell_type": "code",
   "execution_count": 85,
   "metadata": {},
   "outputs": [
    {
     "name": "stdout",
     "output_type": "stream",
     "text": [
      "･ RAM: △Consumed △Peaked  Used Total | Exec time 0:00:00.127\n",
      "･ CPU:         0       0     2666 MB |\n",
      "･ GPU:         0      42     2378 MB |\n"
     ]
    }
   ],
   "source": [
    "learn.load_encoder('ft_enc3')\n",
    "learn.unfreeze()\n",
    "learn.save_encoder('ft_enc4')"
   ]
  },
  {
   "cell_type": "code",
   "execution_count": 83,
   "metadata": {},
   "outputs": [
    {
     "name": "stdout",
     "output_type": "stream",
     "text": [
      "LR Finder is complete, type {learner_name}.recorder.plot() to see the graph.\n"
     ]
    },
    {
     "data": {
      "image/png": "[encoded data removed]",
      "text/plain": [
       "<Figure size 432x288 with 1 Axes>"
      ]
     },
     "metadata": {
      "needs_background": "light"
     },
     "output_type": "display_data"
    },
    {
     "name": "stdout",
     "output_type": "stream",
     "text": [
      "･ RAM: △Consumed △Peaked  Used Total | Exec time 0:00:18.660\n",
      "･ CPU:         0       2     2666 MB |\n",
      "･ GPU:       188     880     2408 MB |\n"
     ]
    }
   ],
   "source": [
    "\n",
    "learn.lr_find(start_lr=1e-8, end_lr=1)\n",
    "learn.recorder.plot()"
   ]
  },
  {
   "cell_type": "code",
   "execution_count": 57,
   "metadata": {},
   "outputs": [
    {
     "name": "stdout",
     "output_type": "stream",
     "text": [
      "LR Finder is complete, type {learner_name}.recorder.plot() to see the graph.\n"
     ]
    },
    {
     "data": {
      "image/png": "[encoded data removed]",
      "text/plain": [
       "<Figure size 432x288 with 1 Axes>"
      ]
     },
     "metadata": {
      "needs_background": "light"
     },
     "output_type": "display_data"
    },
    {
     "name": "stdout",
     "output_type": "stream",
     "text": [
      "･ RAM: △Consumed △Peaked  Used Total | Exec time 0:00:14.320\n",
      "･ CPU:         0       2     2665 MB |\n",
      "･ GPU:        42     908     2594 MB |\n"
     ]
    }
   ],
   "source": [
    "learn.clip=0.1\n",
    "learn.opt_func = partial(optim.Adam, betas=(0.7, 0.99))\n",
    "learn.lr_find(start_lr=1e-6, end_lr=1)\n",
    "learn.recorder.plot()"
   ]
  },
  {
   "cell_type": "code",
   "execution_count": 58,
   "metadata": {},
   "outputs": [
    {
     "data": {
      "text/html": [
       "Total time: 01:16 <p><table style='width:300px; margin-bottom:10px'>\n",
       "  <tr>\n",
       "    <th>epoch</th>\n",
       "    <th>train_loss</th>\n",
       "    <th>valid_loss</th>\n",
       "    <th>accuracy</th>\n",
       "  </tr>\n",
       "  <tr>\n",
       "    <th>1</th>\n",
       "    <th>3.057049</th>\n",
       "    <th>3.650711</th>\n",
       "    <th>0.292253</th>\n",
       "  </tr>\n",
       "  <tr>\n",
       "    <th>2</th>\n",
       "    <th>3.127009</th>\n",
       "    <th>3.650033</th>\n",
       "    <th>0.292316</th>\n",
       "  </tr>\n",
       "</table>\n"
      ],
      "text/plain": [
       "<IPython.core.display.HTML object>"
      ]
     },
     "metadata": {},
     "output_type": "display_data"
    },
    {
     "name": "stdout",
     "output_type": "stream",
     "text": [
      "･ RAM: △Consumed △Peaked  Used Total | Exec time 0:01:16.375\n",
      "･ CPU:         0       1     2665 MB |\n",
      "･ GPU:        41     780     2636 MB |\n"
     ]
    }
   ],
   "source": [
    "learn.fit_one_cycle(2, 2e-5)"
   ]
  },
  {
   "cell_type": "code",
   "execution_count": 86,
   "metadata": {},
   "outputs": [
    {
     "name": "stdout",
     "output_type": "stream",
     "text": [
      "･ RAM: △Consumed △Peaked  Used Total | Exec time 0:00:00.000\n",
      "･ CPU:         0       0     2666 MB |\n",
      "･ GPU:         0       0     2378 MB |\n",
      "\n",
      "IPyExperimentsPytorch: Finishing\n",
      "\n",
      "*** Experiment finished in 00:21:45 (elapsed wallclock time)\n",
      "\n",
      "*** Experiment memory:\n",
      "RAM:  Consumed     Reclaimed\n",
      "CPU:       0       0 MB (  0.00%)\n",
      "GPU:     -88       0 MB ( -0.00%)\n",
      "\n",
      "*** Current state:\n",
      "RAM:  Used  Free  Total      Util\n",
      "CPU:  2666 47421  64352 MB   4.14% \n",
      "GPU:  2378  5739   8117 MB  29.30% \n",
      "\n",
      "\n"
     ]
    }
   ],
   "source": [
    "del exp1"
   ]
  },
  {
   "cell_type": "code",
   "execution_count": null,
   "metadata": {},
   "outputs": [],
   "source": []
  }
 ],
 "metadata": {
  "colab": {
   "include_colab_link": true,
   "name": "pretrain_av.ipynb",
   "provenance": [],
   "toc_visible": true,
   "version": "0.3.2"
  },
  "kernelspec": {
   "display_name": "Python 3",
   "language": "python",
   "name": "python3"
  },
  "language_info": {
   "codemirror_mode": {
    "name": "ipython",
    "version": 3
   },
   "file_extension": ".py",
   "mimetype": "text/x-python",
   "name": "python",
   "nbconvert_exporter": "python",
   "pygments_lexer": "ipython3",
   "version": "3.6.6"
  }
 },
 "nbformat": 4,
 "nbformat_minor": 1
}
