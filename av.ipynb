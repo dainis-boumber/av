{
<<<<<<< HEAD
 "cells": [
  {
   "cell_type": "markdown",
   "metadata": {
    "colab_type": "text",
    "id": "view-in-github"
   },
   "source": [
    "<a href=\"https://colab.research.google.com/github/dainis-boumber/av/blob/master/pretrain_av.ipynb\" target=\"_parent\"><img src=\"https://colab.research.google.com/assets/colab-badge.svg\" alt=\"Open In Colab\"/></a>"
   ]
  },
  {
   "cell_type": "markdown",
   "metadata": {
    "colab_type": "text",
    "id": "ZNmeh0h4UYSR"
   },
   "source": [
    "# ULMFiT + Siamese Network for Sentence Vectors\n",
    "## Part One: Tokenizing\n",
    "This notebook will tokenize the sentences from the SNLI dataset for use in the next notebook\n",
    "\n",
    "### You must have the fastai library installed"
   ]
  },
  {
   "cell_type": "code",
   "execution_count": 1,
   "metadata": {
    "colab": {},
    "colab_type": "code",
    "id": "91TjIhFCUYSS"
   },
   "outputs": [],
   "source": [
    "%reload_ext autoreload\n",
    "%autoreload 2\n",
    "%matplotlib inline\n",
    "\n",
    "from ipyexperiments import *\n",
    "from fastai.text import *\n",
    "from fastai import *\n",
    "from fastai.vision import *\n",
    "from fastai.callbacks import *\n",
    "from fastai.vision.gan import *\n",
    "import json\n",
    "import html\n",
    "import re\n",
    "import pickle\n",
    "import random\n",
    "import pandas as pd\n",
    "import numpy as np\n",
    "from pathlib import Path\n",
    "import sklearn\n",
    "from sklearn import model_selection\n",
    "from functools import partial\n",
    "from collections import Counter, defaultdict\n",
    "from pandas.io.json import json_normalize\n",
    "import numpy as np\n",
    "import torch\n",
    "import torch.nn as nn\n",
    "import torch.utils \n",
    "import torch.optim as optim\n",
    "import torch.optim.lr_scheduler as lr_scheduler\n",
    "from torch.utils.data import dataset, dataloader\n",
    "import torch.optim as optim\n",
    "import torch.nn.functional as F\n",
    "from nltk.tokenize import  sent_tokenize\n",
    "import time\n",
    "import math\n",
    "import sys\n",
    "import data\n",
    "import joblib\n",
    "from random import shuffle\n",
    "from itertools import permutations, combinations\n",
    "\n",
    "\n",
    "\n",
    "token_files = './data/PAN14/tokens/'\n",
    "model_files = './data/PAN14/models/'\n",
    "bs=32\n",
    "TRAINDATAPATH = \"./data/PAN14/pan14_train_english-novels/\"\n",
    "TESTDATAPATH = \"./data/PAN14/pan14_test02_english-novels/\"\n",
    "FNAMES = ['known01','known02','known03','known04','known05', 'unknown']\n",
    "KCOLS=['known01','known02','known03','known04','known05']\n",
    "LABELCOL=\"answer\"\n",
    "UNKOWN=\"unknown\"\n",
    "np.random.seed=42\n",
    "BOD = 'x_bod' # beginning-of-doc tag\n",
    "\n",
    "re1 = re.compile(r'  +')\n",
    "\n",
    "def fixup(x):\n",
    "    x = x.replace('#39;', \"'\").replace('amp;', '&').replace('#146;', \"'\").replace(\n",
    "        'nbsp;', ' ').replace('#36;', '$').replace('\\\\n', \"\\n\").replace('quot;', \"'\").replace(\n",
    "        '<br />', \"\\n\").replace('\\\\\"', '\"').replace('<unk>','u_n').replace(' @.@ ','.').replace(\n",
    "        ' @-@ ','-').replace('\\\\', ' \\\\ ')\n",
    "    return re1.sub(' ', html.unescape(x))\n",
    "\n",
    "def read_dataset(path):\n",
    "    ds=pd.read_json(path+'/truth.json')\n",
    "    ds=json_normalize(ds['problems'])\n",
    "    ds['known01']=None\n",
    "    ds['known02']=None\n",
    "    ds['known03']=None\n",
    "    ds['known04']=None\n",
    "    ds['known05']=None\n",
    "    ds['unknown']=None\n",
    "    ds.set_index('name', drop=True, inplace=True)\n",
    "    ds=ds[['known01','known02','known03','known04','known05', 'unknown', 'answer']]\n",
    "    dirs = []\n",
    "    docs = []\n",
    "\n",
    "    for i, x in enumerate(os.walk(path)):\n",
    "        if i:\n",
    "            for fname in x[2]:\n",
    "                with open(path+dirs[i-1]+'/'+fname, 'r') as f:\n",
    "                    text = f.read().strip()\n",
    "                    doc = ' '.join(sent_tokenize(text)).strip()\n",
    "                    ds.loc[dirs[i-1],fname[:-4]]=doc\n",
    "        else:\n",
    "            dirs = x[1]\n",
    "\n",
    "    return ds\n",
    "\n",
    "def match_unknowns(path):\n",
    "    ds=pd.read_json(path+'/truth.json')\n",
    "    ds=json_normalize(ds['problems'])\n",
    "    ds['known01']=None\n",
    "    ds['known02']=None\n",
    "    ds['known03']=None\n",
    "    ds['known04']=None\n",
    "    ds['known05']=None\n",
    "    ds['unknown']=None\n",
    "    ds.set_index('name', drop=True, inplace=True)\n",
    "    ds=ds[['known01','known02','known03','known04','known05', 'unknown', 'answer']]\n",
    "    dirs = []\n",
    "    docs = []\n",
    "\n",
    "    ds = read_dataset(path)\n",
    "            \n",
    "    grouped=ds.groupby(['unknown'])\n",
    "    dupes=[]\n",
    "    for utext, group in grouped:\n",
    "        if len(group.index) > 1:\n",
    "            dupes.append(group)\n",
    "\n",
    "\n",
    "    newrows=pd.DataFrame(columns=['known01','known02','known03','known04','known05', 'unknown'])\n",
    "    for dupe in dupes:\n",
    "        dupe.reset_index(drop=True, inplace=True)\n",
    "        yes=dupe.loc[dupe.answer == \"Y\"]\n",
    "        yes.reset_index(drop=True, inplace=True)\n",
    "        no=dupe.loc[dupe.answer == \"N\"]\n",
    "        no.reset_index(drop=True, inplace=True)\n",
    "        for col in ['known01','known02','known03','known04','known05']:\n",
    "            if no[col] is not None:\n",
    "                newrows=newrows.append(pd.DataFrame(data={'known01':yes.known01,'known02':yes.known02,\n",
    "                                                          'known03':yes.known03, 'known04':yes.known04,\n",
    "                                                          'known05':yes.known05,'unknown':no[col], \n",
    "                                                          'answer':'N'}), sort=False)\n",
    "    newrows=newrows.dropna(subset=['unknown'])\n",
    "    df = pd.concat([ds, newrows])\n",
    "\n",
    "    return df\n",
    "\n",
    "\n",
    "def shuffle_pars(text, n=4):\n",
    "    pars = [text[i:i+int(len(text)/n)] for i in range(0, len(text), int(len(text)/n))]\n",
    "    shuffle(pars)\n",
    "    return ''.join(pars)\n",
    "\n",
    "def shuffle_text(text, n=4):\n",
    "    sents=sent_tokenize(text)\n",
    "    shuffle(sents)\n",
    "    return ''.join(sents)\n",
    "\n",
    "def add_pos(df):\n",
    "    problems=sorted(list(set(df['problem'].tolist())))\n",
    "    gen_texts = []\n",
    "    gendf=None\n",
    "\n",
    "    for problem in problems:\n",
    "        problem_data = df[df['problem'] == problem]\n",
    "        known_texts = problem_data['known'].tolist()\n",
    "        unknown_texts = problem_data['unknown'].tolist()\n",
    "        lbls=problem_data['label'].tolist()\n",
    "        gen_known_texts = []\n",
    "        gen_unknown_texts = []\n",
    "        if lbls[0] == 1 and len(known_texts) > 1:\n",
    "            gen_known_texts.append(unknown_texts[0])\n",
    "            gen_unknown_texts.append(known_texts[0])\n",
    "\n",
    "        if gendf is None:\n",
    "            gendf = pd.DataFrame(data={\"known\": gen_known_texts, \n",
    "                                                  \"unknown\": gen_unknown_texts, \n",
    "                                                  \"label\": 1,\n",
    "                                                  \"problem\": problem \n",
    "                                                  })\n",
    "        else:\n",
    "            gendf=pd.concat([gendf, pd.DataFrame(data={\"known\": gen_known_texts, \n",
    "                                                      \"unknown\": gen_unknown_texts,\n",
    "                                                      \"label\": 1,\n",
    "                                                      \"problem\": problem \n",
    "                                                      })])\n",
    "    \n",
    "    return gendf\n",
    "\n",
    "def splittext(text, n=2):\n",
    "    pars = [text[i:i+int(len(text)/n)] for i in range(0, len(text), int(len(text)/n))]\n",
    "    \n",
    "    return pars[0], pars[1]\n",
    "    \n",
    "\n",
    "def load_doc_pairs(df, augment=False):\n",
    "   \n",
    "    s0s = []\n",
    "    s1s = []\n",
    "    problem_names = []\n",
    "    labels = [1 if label == 'Y' else 0 for label in df[LABELCOL].tolist()]\n",
    "    \n",
    "    y=[]\n",
    "    unknowns = df[UNKOWN].tolist()\n",
    "    for i, label in enumerate(labels):\n",
    "        for col in KCOLS:\n",
    "            knowns = df[col].tolist()\n",
    "\n",
    "            s0 = knowns[i]\n",
    "            if s0 is not None:\n",
    "                s1 = unknowns[i]\n",
    "                s0s.append(s0)\n",
    "                s1s.append(s1)\n",
    "                y.append(label)\n",
    "                problem_names.append(df.index[i])\n",
    "                if augment:\n",
    "                    s0a, s0b=splittext(s0)\n",
    "                    s1a, s1b=splittext(s1)\n",
    "                    s0s.append(s0a)\n",
    "                    s1s.append(s1a)\n",
    "                    y.append(label)\n",
    "                    problem_names.append(df.index[i])\n",
    "                    s0s.append(s0b)\n",
    "                    s1s.append(s1b)\n",
    "                    y.append(label)\n",
    "                    problem_names.append(df.index[i])\n",
    "                    s0s.append(s0a)\n",
    "                    \n",
    "                    s1s.append(s1b)\n",
    "                    y.append(label)\n",
    "                    problem_names.append(df.index[i])\n",
    "                    s0s.append(s0b)\n",
    "                    s1s.append(s1a)\n",
    "                    y.append(label)\n",
    "                    problem_names.append(df.index[i])\n",
    "                    #s0inflated=shuffle_pars(s0)\n",
    "                    #s1inflated=shuffle_pars(s1)\n",
    "                    #s0s.append(s0inflated)\n",
    "                    #s1s.append(s1inflated)\n",
    "                    #y.append(label)\n",
    "                    #problem_names.append(df.index[i])\n",
    "    data = pd.DataFrame(data={\"known\":s0s, \"unknown\":s1s, \"label\":y, \"problem\": problem_names}) \n",
    "    \n",
    "    return data\n",
    "\n",
    "\n",
    "\n"
   ]
  },
  {
   "cell_type": "code",
   "execution_count": 2,
   "metadata": {},
   "outputs": [],
   "source": [
    "df_train = read_dataset(TRAINDATAPATH)\n",
    "df_test = read_dataset(TESTDATAPATH)"
   ]
  },
  {
   "cell_type": "code",
   "execution_count": 3,
   "metadata": {},
   "outputs": [
    {
     "data": {
      "text/html": [
       "<div>\n",
       "<style scoped>\n",
       "    .dataframe tbody tr th:only-of-type {\n",
       "        vertical-align: middle;\n",
       "    }\n",
       "\n",
       "    .dataframe tbody tr th {\n",
       "        vertical-align: top;\n",
       "    }\n",
       "\n",
       "    .dataframe thead th {\n",
       "        text-align: right;\n",
       "    }\n",
       "</style>\n",
       "<table border=\"1\" class=\"dataframe\">\n",
       "  <thead>\n",
       "    <tr style=\"text-align: right;\">\n",
       "      <th></th>\n",
       "      <th>known</th>\n",
       "      <th>unknown</th>\n",
       "      <th>label</th>\n",
       "      <th>problem</th>\n",
       "    </tr>\n",
       "  </thead>\n",
       "  <tbody>\n",
       "    <tr>\n",
       "      <th>0</th>\n",
       "      <td>﻿The world we live in is not as it seems. I, J...</td>\n",
       "      <td>VII. Yet all this was only the prologue of the...</td>\n",
       "      <td>0</td>\n",
       "      <td>EN001</td>\n",
       "    </tr>\n",
       "    <tr>\n",
       "      <th>1</th>\n",
       "      <td>V. A Nightmare and a Cataclysm\\n\\n1. And now s...</td>\n",
       "      <td>II. It was in the township of Dunwich, in a la...</td>\n",
       "      <td>1</td>\n",
       "      <td>EN002</td>\n",
       "    </tr>\n",
       "    <tr>\n",
       "      <th>2</th>\n",
       "      <td>III. A Search and an Evocation\\n\\n1. Charles W...</td>\n",
       "      <td>﻿April 20th, 1909\\nThey have given me one hour...</td>\n",
       "      <td>0</td>\n",
       "      <td>EN003</td>\n",
       "    </tr>\n",
       "    <tr>\n",
       "      <th>3</th>\n",
       "      <td>﻿Birth Right\\nMantineus-I'm more Mr. Briggs, t...</td>\n",
       "      <td>﻿The Judas Mark\\n\"Cthulhu ftaghn,\" He said wit...</td>\n",
       "      <td>1</td>\n",
       "      <td>EN004</td>\n",
       "    </tr>\n",
       "    <tr>\n",
       "      <th>4</th>\n",
       "      <td>﻿An autumnal chill descended upon the streets ...</td>\n",
       "      <td>﻿May 19th, 1929,\\nMiskatonic University, Arkha...</td>\n",
       "      <td>1</td>\n",
       "      <td>EN005</td>\n",
       "    </tr>\n",
       "  </tbody>\n",
       "</table>\n",
       "</div>"
      ],
      "text/plain": [
       "                                               known  \\\n",
       "0  ﻿The world we live in is not as it seems. I, J...   \n",
       "1  V. A Nightmare and a Cataclysm\\n\\n1. And now s...   \n",
       "2  III. A Search and an Evocation\\n\\n1. Charles W...   \n",
       "3  ﻿Birth Right\\nMantineus-I'm more Mr. Briggs, t...   \n",
       "4  ﻿An autumnal chill descended upon the streets ...   \n",
       "\n",
       "                                             unknown  label problem  \n",
       "0  VII. Yet all this was only the prologue of the...      0   EN001  \n",
       "1  II. It was in the township of Dunwich, in a la...      1   EN002  \n",
       "2  ﻿April 20th, 1909\\nThey have given me one hour...      0   EN003  \n",
       "3  ﻿The Judas Mark\\n\"Cthulhu ftaghn,\" He said wit...      1   EN004  \n",
       "4  ﻿May 19th, 1929,\\nMiskatonic University, Arkha...      1   EN005  "
      ]
     },
     "execution_count": 3,
     "metadata": {},
     "output_type": "execute_result"
    }
   ],
   "source": [
    "\n",
    "doc_pairs_train = load_doc_pairs(df_train, False)\n",
    "doc_pairs_test = load_doc_pairs(df_test, False)\n",
    "doc_pairs_train.head()"
   ]
  },
  {
   "cell_type": "code",
   "execution_count": 5,
   "metadata": {},
   "outputs": [
    {
     "data": {
      "text/plain": [
       "['data.pkl']"
      ]
     },
     "execution_count": 5,
     "metadata": {},
     "output_type": "execute_result"
    }
   ],
   "source": [
    "doc_pairs_train['is_valid'] = False\n",
    "doc_pairs_test['is_valid'] = True\n",
    "df = pd.concat([doc_pairs_train,doc_pairs_test])\n",
    "\n",
    "joblib.dump(df, 'data.pkl')\n"
   ]
  },
  {
   "cell_type": "code",
   "execution_count": 6,
   "metadata": {},
   "outputs": [],
   "source": [
    "df=joblib.load('data.pkl')\n",
    "df.head()\n",
    "\n",
    "data_lm = (TextList.from_df(df, path=model_files, cols=['known', 'unknown'])\n",
    "            .split_from_df(col='is_valid')\n",
    "           #We randomly split and keep 10% (10,000 reviews) for validation\n",
    "            .label_for_lm()           \n",
    "           #We want to do a language model so we label accordingly\n",
    "            .databunch(bs=bs))\n",
    "data_lm.save('tmp_lm')"
   ]
  },
  {
   "cell_type": "code",
   "execution_count": 7,
   "metadata": {},
   "outputs": [
    {
     "name": "stdout",
     "output_type": "stream",
     "text": [
      "LR Finder is complete, type {learner_name}.recorder.plot() to see the graph.\n"
     ]
    },
    {
     "data": {
      "image/png": "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\n",
      "text/plain": [
       "<Figure size 432x288 with 1 Axes>"
      ]
     },
     "metadata": {
      "needs_background": "light"
     },
     "output_type": "display_data"
    }
   ],
   "source": [
    "data_lm = TextLMDataBunch.load(model_files, 'tmp_lm', bs=bs)\n",
    "\n",
    "learn = language_model_learner(data_lm, pretrained_model=URLs.WT103_1, drop_mult=1, metrics=[accuracy],\n",
    "                               callback_fns=ShowGraph, wd=0.1)\n",
    "\n",
    "learn.lr_find()\n",
    "learn.recorder.plot(skip_end=15)"
   ]
  },
  {
   "cell_type": "code",
   "execution_count": 8,
   "metadata": {
    "scrolled": true
   },
   "outputs": [
    {
     "data": {
      "text/html": [
       "Total time: 01:32 <p><table style='width:300px; margin-bottom:10px'>\n",
       "  <tr>\n",
       "    <th>epoch</th>\n",
       "    <th>train_loss</th>\n",
       "    <th>valid_loss</th>\n",
       "    <th>accuracy</th>\n",
       "  </tr>\n",
       "  <tr>\n",
       "    <th>1</th>\n",
       "    <th>5.091457</th>\n",
       "    <th>4.478872</th>\n",
       "    <th>0.245712</th>\n",
       "  </tr>\n",
       "</table>\n"
      ],
      "text/plain": [
       "<IPython.core.display.HTML object>"
      ]
     },
     "metadata": {},
     "output_type": "display_data"
    },
    {
     "data": {
      "image/png": "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\n",
      "text/plain": [
       "<Figure size 432x288 with 1 Axes>"
      ]
     },
     "metadata": {},
     "output_type": "display_data"
    }
   ],
   "source": [
    "learn.fit_one_cycle(1, max_lr=1e-03, moms=(0.8, 0.7))"
   ]
  },
  {
   "cell_type": "code",
   "execution_count": 9,
   "metadata": {},
   "outputs": [
    {
     "data": {
      "text/html": [
       "Total time: 03:27 <p><table style='width:300px; margin-bottom:10px'>\n",
       "  <tr>\n",
       "    <th>epoch</th>\n",
       "    <th>train_loss</th>\n",
       "    <th>valid_loss</th>\n",
       "    <th>accuracy</th>\n",
       "  </tr>\n",
       "  <tr>\n",
       "    <th>1</th>\n",
       "    <th>4.240113</th>\n",
       "    <th>4.359773</th>\n",
       "    <th>0.250227</th>\n",
       "  </tr>\n",
       "  <tr>\n",
       "    <th>2</th>\n",
       "    <th>3.844458</th>\n",
       "    <th>4.337045</th>\n",
       "    <th>0.251098</th>\n",
       "  </tr>\n",
       "</table>\n"
      ],
      "text/plain": [
       "<IPython.core.display.HTML object>"
      ]
     },
     "metadata": {},
     "output_type": "display_data"
    },
    {
     "data": {
      "image/png": "iVBORw0KGgoAAAANSUhEUgAAAW4AAAD8CAYAAABXe05zAAAABHNCSVQICAgIfAhkiAAAAAlwSFlzAAALEgAACxIB0t1+/AAAADl0RVh0U29mdHdhcmUAbWF0cGxvdGxpYiB2ZXJzaW9uIDMuMC4yLCBodHRwOi8vbWF0cGxvdGxpYi5vcmcvOIA7rQAAHr1JREFUeJzt3XlwVOed7vHvrxftrX1FQggs9sUCBMaD7RibeIjj2EnG5eAkMxlfx65JZiaJJ1MTZ27NnWQqU3MzNZXMzWRxXNnuTXmSOGS14zjxgsF2vAnMDmYHCQktaN/V3e/9oxuCsUANqCUdeD5VXepz+u3TvyOap1+9/Z5zzDmHiIh4h2+yCxARkYuj4BYR8RgFt4iIxyi4RUQ8RsEtIuIxCm4REY9RcIuIeIyCW0TEYxTcIiIeE0jGRrPz8t2ca2YlY9MiIlekLVu2tDnnihJpm5Tgzi8pp66uLhmbFhG5IpnZsUTbJmWoZCSi85+IiCRLkoI7mozNiogICm4REc9Jyhj34EiUcCRKwK9JKyIytpGRERoaGhgcHJzsUpIuLS2NiooKgsHgJW8jKcEddY5djd3UTM9NxuZF5ArT0NBAKBSiqqoKM5vscpLGOcepU6doaGhg5syZl7ydpHSJDXi8rj4ZmxaRK9Dg4CAFBQVXdGgDmBkFBQWX/ZdFUoI7JyPIz7Y0cLClB11hR0QScaWH9mnjsZ9JCe689BSGwlHWfmUzN3x5I/Xt/cl4GRGRq1JSgjsrLcD/+x8r+YvrZ3Cic4B//91byXgZEZFx0dnZyTe/+c2Lft7tt99OZ2dnEiq6sKRN+7hpThH/ctci/vaWap7Y3siWYx3JeikRkctyvuCORCIXfN5TTz1Fbu7ET8JI+ny9v3rXNZRkp/KX33udn21p0Ji3iEw5Dz/8MIcOHaKmpoYVK1awZs0aPvzhD7N48WIA3v/+97N8+XIWLlzIo48+euZ5VVVVtLW1cfToUebPn88DDzzAwoULue222xgYGEhavZaMIK2trXVnn6vk+Kl+PvvTbbxxtIMZBRm8Z1EZN80uZNmMPI6d6qe6OAu/7+r4YkJE3mnv3r3Mnz8fgC8+sZs9jd3juv0F07L55/ctPO/jR48e5Y477mDXrl288MILvPe972XXrl1npuy1t7eTn5/PwMAAK1asYNOmTRQUFFBVVUVdXR29vb1UV1dTV1dHTU0N99xzD3feeScf/ehHx9zf08xsi3OuNpH9SWget5kdBXqACBBOdOOnVRZk8OMHr2fDlno2bGnguy8d5pFNh/D7jEjUsbIqn4dvn8eCsmzSgv6L2bSIyLhbuXLl2+ZZf+1rX+MXv/gFAPX19Rw4cICCgoK3PWfmzJnU1NQAsHz5co4ePZq0+i7mAJw1zrm2S30hv8/40IpKPrSikoHhCE9sb2TTgVbKstP4/h+O8sFv/gG/z8hNDzIwEmHhtGxWzsxnWm4611bkEvDHeuRFWakEfD5yMi79qCMRmbou1DOeKJmZmWfuv/DCCzz77LO88sorZGRkcPPNN486Dzs1NfXMfb/fn9ShkqQcOTmW9BQ/96yYzj0rpgPw8Rtnsa2+g50numjoGCAvI4WXD7bxjY2HzruNG2cX8sFl5cwpCbGgLPuqmQMqIuMvFArR09Mz6mNdXV3k5eWRkZHBvn37ePXVVye4undKNLgd8Hszc8C3nXOPjvWEi1Gak8a6nDLWLSr74ws6x+BIlJaeQXae6MIwos7R3jdMe98wP3z1GC8eiP0BkBb0sXZ+CR9YWs5Nc4oI6hwpInIRCgoKWL16NYsWLSI9PZ2SkpIzj61bt45HHnmEJUuWMHfuXFatWjWJlcYk9OWkmU1zzjWaWTHwDPC3zrnN57R5EHgQoLKycvmxYwmfE/ySDI5EqG/v5836TrbVd/L0rpO09w0TSguwfEYeyyrzqMzPICXgIz8zhZrpuaOOnzvn6B4I09o7RFPXAH4zhiJROvqGOd2JD/h8TMtNZ+E0jcGLJMNoX9ZdyS73y8mLnlViZl8Aep1z/3G+NufOKpkII5EoLx5o5fe7m9l6vIP9zb1vezw/M4WPrprB2vnFnOyK9eJfOtjG7sZuhsOJnYY2JeBjbkkIM858KBxp6yMadeRlprBmbjGrqwuoKsjUmRFFLoKCe5xnlZhZJuBzzvXE798G/MulFJtMQb+PW+aVcMu82J843YMjtHQPMRSOUN8+wIYtDfzX8wf42nMHAPAZzC/L5i//pIriUCr5mSmU56YTdTAciVKem87pGYrDkSjHT/Xz+pF23mqOjYNtb+ikfyjC/LJsAn7j+Kl+/vnXuwFI8fuoLs5iVlEmN1QXcuv8EopCqe8sWkTkEiQyxl0C/CL+5V8A+G/n3NNJrWocZKcFyU6LzTxZOC2HdYtKOdrWx/7mHgqyUlhQlkN6SuLDHvNKs7ltYekF2xxu7WXr8U4ONPewp6mbLcc6eHJHE2Y7qS7KYk5piFWzClg7v5iynPTL2j8RuXqNGdzOucPAtRNQS9JVFWZSVZg5dsNLNKsoi1lFWWeWnXPsberh2b3N7Gjo4s1jHfxmRxP/9EtYUJbN2vnFrF1QwqJpOfh0AJKIJGhSpgNeLcyMBdOyWTAtG4gF+aHWXp7d28Jze5v5+saDfO35gxSHUrl1fjG3zith5ax8MlMCOpJURM5LwT2BzIzq4hDVxSH+6l3X0N43zMZ9LTy3r5kntjfxo9djF59ID/qZWxripjlF3FNbQUVexiRXLiJTiaY+TKL8zBT+bHkF3/zIcrb+07v54f0r+fvb5rB+5XSCfuO/nj/ADV/eyL2Pvsqvtp1gKHzhM5WJyMTJyooNizY2NnL33XeP2ubmm28mGTPs1OOeIlICPm6cXcSNs4vOrGvo6OfnW0/w0y31fPrH28hI8bN8Rh6zi0PMLwvx7gUl5GakTGLVIjJt2jQ2bNgwoa+p4J7CKvIy+NSts/mbNdW8eLCN5/c28+rhdrYc66B/ONb7ri7O4rYFJfzpwlKWVOTo0H+RS/S5z32OGTNm8MlPfhKAL3zhC5gZmzdvpqOjg5GREb70pS9x1113ve15Z59ZcGBggPvuu489e/Ywf/78pJ2vRMHtAT6f8a45RbxrTqw37pxj6/FOXjtyipcOtPHtzYf55guHmJ6fzvWzClhdXci80mxmFGToSE/xnt8+DCd3ju82SxfDe/73BZusX7+ez3zmM2eC+/HHH+fpp5/moYceIjs7m7a2NlatWsWdd9553g7St771LTIyMtixYwc7duxg2bJl47sfcQpuDzIzls/IY/mMPD55czUdfcM8s6eZ3+85ye92N/N4XQMQG35ZXpnH6uoC/qS6kCXlOTqiU+Q8li5dSktLC42NjbS2tpKXl0dZWRkPPfQQmzdvxufzceLECZqbmyktHf2Yjs2bN/OpT30KgCVLlrBkyZKk1KrgvgLkZaacOdtiJOrY09jNwdYe9jR289LBU/zH7/fD7/dTmp3GukWl3FM7/cwURZEpZ4yecTLdfffdbNiwgZMnT7J+/Xoee+wxWltb2bJlC8FgkKqqqlFP6Xq2iRiuVHBfYfw+Y3FFDosrcvjA0ti6U71DvHSwjSe2N/Lfrx/nB384yrzSELcvLuNj11fp3OYicevXr+eBBx6gra2NTZs28fjjj1NcXEwwGGTjxo2MdfK8m266iccee4w1a9awa9cuduzYkZQ6FdxXgYKsVO6qKeeumnI6+4f51bZGntzRyFef3c/3Xj7Cx2+YyYevm0F+pmaoyNVt4cKF9PT0UF5eTllZGR/5yEd43/veR21tLTU1NcybN++Cz//EJz7Bfffdx5IlS6ipqWHlypVJqXNCrjkpU9Oexm7+/Xf7eOGtVlIDPj64rIJ7aitYWpk32aXJVUZnB0zCNSflyrRgWjY/uG8l+5t7+P7LR/j51gZ+9PpxVlcX8NDaOdRW5U92iSIyCgW3MKckxL99cAn/ePt8fvJGPY9sOsTdj7zCiqo8rptZwB3XljGvVF9mikwVCm45I5QW5OM3zuLD11Xy2KvHebyunm+8cJCvbzxIzfRcrpuVz/LKPNbMK9bl4WTcOeeuigPIxmN4WmPcckGd/cP8+I16frvrJHsauxiJuPjZDEu4ZV7sij8ZKfr8l8tz5MgRQqEQBQUFV3R4O+c4deoUPT09zJw5822PJfXSZYlQcF+ZhsNRNu9vZcOWBl480ErfcISs1ADrV0zn/htn6uIQcslGRkZoaGgYc470lSAtLY2KigqCwbdPw1VwS9INhSO8caSDx+vq+c3OJnwGdyyZxodWTOe6mflXdK9JJBkU3DKh6tv7+c6Lh/nZ1hP0DoUpzEplflmId80pYtmMPBZOyyY1oHOmiFyIglsmxcBwhKd3N/H8vlZ2n+jicFsfAJkpftavrORdc4pYPiOPzFSNiYucS8EtU0JL9yBbj3fym51NPLWziUjUkZni52N/UsWfLa9gVmHmxA6pNO+B4T4wi90wMN+F75svvjzGc97WbjyeI1cbBbdMOX1DYbYc6+CnWxp4ckcjzsG0nDRWVxdyw+xCbp5bTE56ks+Z8p210PBGcl9j3FzmB8S4f5Ak+hwm6IPNq/Wc/9/LFtyp4Japq769n80HWnn5YBsvHzxF18AIOelB1syNDaWsmJnP3JLQ+PfG69+AwU5wDnDgorH7LhpfHu0+f2w35nNOt7vY53AR9Zy+fzH1XMpzGKPdRNaTxN/PFGJf7FZwizdEoo6txzv4/stHeONoB609QwDMKw1x89xi0oI+jNj5x1fOzCcloAN/ZJy5cz9UxvuDLbHnWNkSnatEvMHvM1ZU5bOiKh/nHA0dA2x8q4UntjfynRcPE446zGLv79yMIKurC1k1q4AbqwuJOkfQ7yOUFiAnPagpiHJpzMC8NetJPW6ZsgZHIvh9xlA4yquHTvHUziZeOXyKpq53HqSR4vdRFEolOz3IUDjC4HAEn8+oLs5i4bRsMlIC+H1GdlqQGQUZrJyZr8P2ZUrR2QHlinD6eplBv4+1C0pYu6AE5xz7Tvawvb6TtKCfkUiU7sEwLT2DtPYM0T0QJjXoIyPoZzgSZdeJLjbvbyV6Tv+kOJTKR66bwb3XTac4lDYJeydy6dTjliuec47hSJSRiKOtZ4h9J7v50ev1bNrfStBvvHdxGfeurGReWXbyZ7aInId63CJnMTNSA35SA5CVGqCqMJN1i8o43NrLD189xoa6Bn65rZGAz7h1fjEfWjGdVbN08iyZutTjlqte31CYZ/c2s6Ohi1++eYJTfcNkpvh5/9JyPrRiOlWFmWSnqScuyaUDcEQu0XA4yssH2/jNziae2N7IUDiKGayoymdxeQ4LyrKZnp/B7OIs8nSNThlHCm6RcdDZP8zGt1rYd7KH1w63s7epm6Fw7KANv89YNSufZZV51EzPpSwnnZmFmaSneGtamUwdSRnjNjM/UAeccM7dcanFiXhFbkYKH1hacWZ5JBLl2Kl+TnQO8PLBNja91crXNx7k7L7PtJw0ZhVlMbskiw8sLWdxeY7ml8u4S7jHbWZ/B9QC2WMFt3rccrXoHQrz1slumroGOdLax+G2Pg639vJWcw+DI1HKc9O5Y0kZ96yYzjVFWZNdrkxh497jNrMK4L3AvwJ/dxm1iVxRslIDLJ+R/471XQMjPLWziWf2NPOdl47w7c2HuXVeMZ9cU82yylz1wuWyJDpU8p/APwChJNYicsXISQ9y78pK7l1ZSUvPID95vZ5HNx/muX1/YE5JFutXVPKBpeX6glMuyZhDJWZ2B3C7c+6TZnYz8PejDZWY2YPAgwCVlZXLjx07loRyRbyrZ3CEJ3c08eM36tle30mK38efLipl3cJSaipzmZaTpp74VWxcZ5WY2b8Bfw6EgTQgG/i5c+6j53uOxrhFLmxvUzc/eaOeX247QWf/CABzSrK4p3Y6SytzubYil4DOpXJVSdp0wAv1uM+m4BZJTDgSZceJLnbUd/LjN+rZd7IHgNSAjxVV+axbVMoHl5XrKM6rgIJbxIOcc7T0DPH6kXbePN7Jpv0tHGrtIy3oY0lFLstn5HFtRQ7Z6UGm52VQnpuOz6ehlSuFDsARuULUHW3nNzub2Hq8k90nugifdZrDvIwgtVX5XFOUxXWz8llQlk1Jts506FU6yZTIFaK2Kp/aqth0w8GRCPube+gdDHOsvZ8txzp483gHL7zVwiObDgGwuDyH2xaUsHp2IYvLc3TO8SkmHInS1DXInqZu6tv76RoYoWtghIHhyEVtRz1uEY8bGI6w9XgHu0508fTuk2yr78Q5CPqNqoJMqouzuKYoi2uKM2M/i7LITL0y+2zhSJT6jgG6BkboHw7TPTDCgeZe0lP8tPYOkR70E0oLkp0WoDw3nWuKsygOpY7rbJ6u/hEauwY40NLL4dZeGjoGaOjop6FjgJNdg2/7q8kMstOCZKT4efUf12qoRORq1dY7xGuH29l5ootDrb0caunlWHs/kbMCoywnjWuKsijLSSMt6GdJRQ5LK/OYVZjpqXHzk12D7G/uYXdjN9vrO3njaDun+oZHbRv0GyORd+ZdVmqAWUWZlGankZUWIC8jhb6hMD1DYQaGIwR8RkrAR4rfR9fACIPhCJkpAUpz0igOpdLeN3ImmFt7h85cNxViwVwSSqM8L52KM7cM5paGmBU/6+Tp37fGuEXkbYbDUY6393Gwpe9MmB9q7aW5e+hMSAGE0gLMKw2xcFoOi8tzWFyRQ3VR1qSGeTgSpaFjgKauQQ609NDZP8Luxi6213dxsvuPl7Erz01n+Yw8bphdSH5GCpmpAbJSA1xTnMlwOEpOepBI1NE7FKZ7IEx9R/+Z38Xhtj5ae4bo6B+meyBMKC1AVlqA9KCfSNQxHI4yFI6SnR7rHfcMjnCya5DuwTAZKX6m52VQkZdObkYKc0qyKMtNZ05JFlUFmWeu5DQWBbeIJCwadRxu62Xr8U621Xey/2SsBzswEht3zUkPUjsjjzmlIablpFGQlUphVipzS0PvuGJQNBq74HNH/zD5mSnkZgQZDkfpHBjBZ0bfUJjO/hF6h8IMhSP0D8dvQ2FGoo6c9CA56UGauwdp6hqgtWeIrcc739aLBZhZmMmSihxqpucytzTE7OIQhVkpE34A0+BIhNSAb1xeV8EtIpclEnUcaetlW30XdUfbef1IO4fb+t7RLis1QG5GEJ8Znf3D9AyFGa9IycsIUhRKZVZhFrfMK6YsN405JbEPi0R7sV6iWSUicln8PqO6OER1cYi7l8dObRuNOhq7BujoG6Gtb4gDzT00dQ3S2T9C1DnyMlLITguQl5lCeW46XQMjdPQPk+L3kZuRgsORHgyQlxEkKy1AasBHRkqAzJQA6Sl+Aj6jZzBM50Cstx7SVYfOS8EtIgnx+YyKvAwq8mLLa+YWj/tr5GQEyclQYI9FkzxFRDxGwS0i4jEKbhERj1Fwi4h4jIJbRMRjFNwiIh6j4BYR8RgFt4iIxyi4RUQ8RsEtIuIxCm4REY9RcIuIeIyCW0TEYxTcIiIeo+AWEfEYBbeIiMcouEVEPEbBLSLiMQpuERGPUXCLiHiMgltExGMU3CIiHqPgFhHxmDGD28zSzOx1M9tuZrvN7IsTUZiIiIwukECbIeAW51yvmQWBl8zst865V5Ncm4iIjGLM4HbOOaA3vhiM31wyixIRkfNLaIzbzPxmtg1oAZ5xzr2W3LJEROR8Egpu51zEOVcDVAArzWzRuW3M7EEzqzOzutbW1vGuU0RE4i5qVolzrhN4AVg3ymOPOudqnXO1RUVF41SeiIicK5FZJUVmlhu/nw6sBfYluzARERldIrNKyoD/a2Z+YkH/uHPuyeSWJSIi55PIrJIdwNIJqEVERBKgIydFRDxGwS0i4jEKbhERj1Fwi4h4jIJbRMRjFNwiIh6j4BYR8RgFt4iIxyi4RUQ8RsEtIuIxCm4REY9RcIuIeIyCW0TEYxTcIiIeo+AWEfEYBbeIiMcouEVEPEbBLSLiMQpuERGPUXCLiHiMgltExGMU3CIiHqPgFhHxGAW3iIjHKLhFRDxGwS0i4jEKbhERj1Fwi4h4jIJbRMRjFNwiIh6j4BYR8Zgxg9vMppvZRjPba2a7zezTE1GYiIiMLpBAmzDwWefcVjMLAVvM7Bnn3J4k1yYiIqMYs8ftnGtyzm2N3+8B9gLlyS5MRERGd1Fj3GZWBSwFXktGMSIiMraEg9vMsoCfAZ9xznWP8viDZlZnZnWtra3jWaOIiJwloeA2syCx0H7MOffz0do45x51ztU652qLiorGs0YRETlLIrNKDPgusNc595XklyQiIheSSI97NfDnwC1mti1+uz3JdYmIyHmMOR3QOfcSYBNQi4iIJEBHToqIeIyCW0TEYxTcIiIeo+AWEfEYBbeIiMcouEVEPEbBLSLiMQpuERGPUXCLiHiMgltExGMU3CIiHqPgFhHxGAW3iIjHKLhFRDxGwS0i4jEKbhERj1Fwi4h4jIJbRMRjFNwiIh6j4BYR8RgFt4iIxyi4RUQ8RsEtIuIxCm4REY9RcIuIeIyCW0TEYxTcIiIeo+AWEfEYBbeIiMcouEVEPEbBLSLiMWMGt5l9z8xazGzXRBQkIiIXlkiP+wfAuiTXISIiCRozuJ1zm4H2CahFREQSoDFuERGPGbfgNrMHzazOzOpaW1vHa7MiInKOcQtu59yjzrla51xtUVHReG1WRETOoaESERGPSWQ64I+AV4C5ZtZgZvcnvywRETmfwFgNnHP3TkQhIiKSGA2ViIh4jIJbRMRjFNwiIh6j4BYR8RgFt4iIxyi4RUQ8RsEtIuIxCm4REY9RcIuIeIyCW0TEYxTcIiIeo+AWEfEYBbeIiMcouEVEPEbBLSLiMQpuERGPUXCLiHiMgltExGMU3CIiHqPgFhHxGAW3iIjHKLhFRDxGwS0i4jEKbhERj1Fwi4h4jIJbRMRjFNwiIh6j4BYR8RgFt4iIxyi4RUQ8RsEtIuIxCQW3ma0zs7fM7KCZPZzsokRE5PzGDG4z8wPfAN4DLADuNbMFyS5MRERGl0iPeyVw0Dl32Dk3DPwYuCu5ZYmIyPkkEtzlQP1Zyw3xdSIiMgkCCbSxUda5dzQyexB4ML44ZGa7LqewSVYItE12EZdB9U8u1T+5vFr/jEQbJhLcDcD0s5YrgMZzGznnHgUeBTCzOudcbaJFTDWqf3Kp/sml+qe+RIZK3gBmm9lMM0sB1gO/Tm5ZIiJyPmP2uJ1zYTP7G+B3gB/4nnNud9IrExGRUSUyVIJz7ingqYvY7qOXVs6Uofonl+qfXKp/ijPn3vE9o4iITGE65F1ExGPGNbi9cGi8mX3PzFrOnq5oZvlm9oyZHYj/zIuvNzP7Wnx/dpjZssmr/Eyt081so5ntNbPdZvbp+HpP7IOZpZnZ62a2PV7/F+PrZ5rZa/H6fxL/IhwzS40vH4w/XjWZ9Z9mZn4ze9PMnowve6Z+MztqZjvNbJuZ1cXXeeL9c5qZ5ZrZBjPbF/+/cL3X9uFyjFtwe+jQ+B8A685Z9zDwnHNuNvBcfBli+zI7fnsQ+NYE1XghYeCzzrn5wCrgr+O/Z6/swxBwi3PuWqAGWGdmq4AvA1+N198B3B9vfz/Q4ZyrBr4abzcVfBrYe9ay1+pf45yrOWvanFfeP6f9H+Bp59w84Fpi/xZe24dL55wblxtwPfC7s5Y/D3x+vLY/njegCth11vJbQFn8fhnwVvz+t4F7R2s3VW7Ar4B3e3EfgAxgK3AdsQMmAue+l4jNZro+fj8Qb2eTXHcFsWC4BXiS2EFqXqr/KFB4zjrPvH+AbODIub9HL+3D5d7Gc6jEy4fGlzjnmgDiP4vj66f0PsX/7F4KvIaH9iE+zLANaAGeAQ4Bnc65cLzJ2TWeqT/+eBdQMLEVv8N/Av8AROPLBXirfgf83sy2xI94Bg+9f4BZQCvw/fhw1XfMLBNv7cNlGc/gTujQeI+ZsvtkZlnAz4DPOOe6L9R0lHWTug/OuYhzroZYz3UlMH+0ZvGfU6p+M7sDaHHObTl79ShNp2T9caudc8uIDSH8tZnddIG2U7H+ALAM+JZzbinQxx+HRUYzFffhsoxncCd0aPwU1WxmZQDxny3x9VNyn8wsSCy0H3PO/Ty+2lP7AOCc6wReIDZWn2tmp48rOLvGM/XHH88B2ie20rdZDdxpZkeJnSnzFmI9cK/Uj3OuMf6zBfgFsQ9PL71/GoAG59xr8eUNxILcS/twWcYzuL18aPyvgY/F73+M2Ljx6fV/Ef9WehXQdfpPscliZgZ8F9jrnPvKWQ95Yh/MrMjMcuP304G1xL5Y2gjcHW92bv2n9+tu4HkXH6icDM65zzvnKpxzVcTe48875z6CR+o3s0wzC52+D9wG7MIj7x8A59xJoN7M5sZX3QrswUP7cNnG+UuD24H9xMYs/+dkD+Cfp8YfAU3ACLFP4vuJjTk+BxyI/8yPtzViM2UOATuB2ilQ/w3E/szbAWyL3273yj4AS4A34/XvAv5XfP0s4HXgIPBTIDW+Pi2+fDD++KzJ/jc4a19uBp70Uv3xOrfHb7tP/z/1yvvnrP2oAeri76NfAnle24fLuenISRERj9GRkyIiHqPgFhHxGAW3iIjHKLhFRDxGwS0i4jEKbhERj1Fwi4h4jIJbRMRj/j/dWeK5Ke0EeAAAAABJRU5ErkJggg==\n",
      "text/plain": [
       "<Figure size 432x288 with 1 Axes>"
      ]
     },
     "metadata": {},
     "output_type": "display_data"
    }
   ],
   "source": [
    "learn.unfreeze()\n",
    "learn.fit_one_cycle(2, slice(3e-3), moms=(0.8,0.7))"
   ]
  },
  {
   "cell_type": "code",
   "execution_count": 10,
   "metadata": {},
   "outputs": [],
   "source": [
    "learn.save('fine_tuned_lm')\n",
    "learn.save_encoder('fine_tuned_enc')"
   ]
  },
  {
   "cell_type": "code",
   "execution_count": 53,
   "metadata": {},
   "outputs": [
    {
     "name": "stdout",
     "output_type": "stream",
     "text": [
      "\n",
      "*** Experiment started with the Pytorch backend\n",
      "Device: ID 0, GeForce GTX 1070 (8117 RAM)\n",
      "\n",
      "\n",
      "*** Current state:\n",
      "RAM:  Used  Free  Total      Util\n",
      "CPU:  3225 54672  64352 MB   5.01% \n",
      "GPU:  2250  5866   8117 MB  27.73% \n",
      "\n",
      "\n",
      "･ RAM: △Consumed △Peaked  Used Total | Exec time 0:00:00.243\n",
      "･ CPU:         0       0     3225 MB |\n",
      "･ GPU:         0       0     2250 MB |\n",
      "\n",
      "IPyExperimentsPytorch: Finishing\n",
      "\n",
      "*** Experiment finished in 00:09:03 (elapsed wallclock time)\n",
      "\n",
      "*** Newly defined local variables:\n",
      "Deleted: splittext\n",
      "\n",
      "*** Experiment memory:\n",
      "RAM:  Consumed     Reclaimed\n",
      "CPU:     326       0 MB (  0.00%)\n",
      "GPU:    -127       0 MB ( -0.00%)\n",
      "\n",
      "*** Current state:\n",
      "RAM:  Used  Free  Total      Util\n",
      "CPU:  3225 54671  64352 MB   5.01% \n",
      "GPU:  2250  5866   8117 MB  27.73% \n",
      "\n",
      "\n"
     ]
    },
    {
     "ename": "TypeError",
     "evalue": "'<' not supported between instances of 'str' and 'int'",
     "output_type": "error",
     "traceback": [
      "\u001b[0;31m---------------------------------------------------------------------------\u001b[0m",
      "\u001b[0;31mTypeError\u001b[0m                                 Traceback (most recent call last)",
      "\u001b[0;32m<ipython-input-53-c68122b944ea>\u001b[0m in \u001b[0;36m<module>\u001b[0;34m\u001b[0m\n\u001b[1;32m      2\u001b[0m \u001b[0mexp1\u001b[0m\u001b[0;34m=\u001b[0m\u001b[0mIPyExperimentsPytorch\u001b[0m\u001b[0;34m(\u001b[0m\u001b[0;34m)\u001b[0m\u001b[0;34m\u001b[0m\u001b[0m\n\u001b[1;32m      3\u001b[0m \u001b[0;34m\u001b[0m\u001b[0m\n\u001b[0;32m----> 4\u001b[0;31m \u001b[0mproblems\u001b[0m\u001b[0;34m=\u001b[0m\u001b[0msorted\u001b[0m\u001b[0;34m(\u001b[0m\u001b[0mlist\u001b[0m\u001b[0;34m(\u001b[0m\u001b[0mset\u001b[0m\u001b[0;34m(\u001b[0m\u001b[0mdf\u001b[0m\u001b[0;34m[\u001b[0m\u001b[0;34m'problem'\u001b[0m\u001b[0;34m]\u001b[0m\u001b[0;34m.\u001b[0m\u001b[0mtolist\u001b[0m\u001b[0;34m(\u001b[0m\u001b[0;34m)\u001b[0m\u001b[0;34m)\u001b[0m\u001b[0;34m)\u001b[0m\u001b[0;34m)\u001b[0m\u001b[0;34m\u001b[0m\u001b[0m\n\u001b[0m\u001b[1;32m      5\u001b[0m \u001b[0mgen_texts\u001b[0m \u001b[0;34m=\u001b[0m \u001b[0;34m[\u001b[0m\u001b[0;34m]\u001b[0m\u001b[0;34m\u001b[0m\u001b[0m\n\u001b[1;32m      6\u001b[0m \u001b[0mgendf\u001b[0m\u001b[0;34m=\u001b[0m\u001b[0;32mNone\u001b[0m\u001b[0;34m\u001b[0m\u001b[0m\n",
      "\u001b[0;31mTypeError\u001b[0m: '<' not supported between instances of 'str' and 'int'"
     ]
    },
    {
     "name": "stdout",
     "output_type": "stream",
     "text": [
      "･ RAM: △Consumed △Peaked  Used Total | Exec time 0:00:00.154\n",
      "･ CPU:         0       0     3225 MB |\n",
      "･ GPU:         0       0     2250 MB |\n"
     ]
    }
   ],
   "source": [
    "\n",
    "exp1=IPyExperimentsPytorch()\n",
    "\n",
    "problems=sorted(list(set(df['problem'].tolist())))\n",
    "gen_texts = []\n",
    "gendf=None\n",
    "\n",
    "for i, problem in enumerate(problems):\n",
    "    problem_data = df[df['problem'] == problem]\n",
    "    known_texts = problem_data['known'].tolist()\n",
    "    unknown_texts = problem_data['unknown'].tolist()\n",
    "    lbls=problem_data['label']\n",
    "    gen_known_texts = []\n",
    "    gen_unknown_texts = []\n",
    "    for known_text, unknown_text in zip(known_texts, unknown_texts):\n",
    "        '''\n",
    "        sens=sent_tokenize(known_text)\n",
    "        avg_sen_len=int(np.mean(np.array([len(s) for s in sens]))/4)\n",
    "        newtext=[]\n",
    "        for i, s in enumerate(sens):\n",
    "            newtext.append(s)\n",
    "            if i and i % 10 == 0:\n",
    "                pred_sen=learn.predict(text=known_text, n_words=int(avg_sen_len))\n",
    "                newtext.append(pred_sen)\n",
    "        gen_known_texts.append('\\n'.join(newtext))\n",
    "        '''\n",
    "        if lbls[0] == 0:\n",
    "            '''\n",
    "            sens=sent_tokenize(unknown_text)\n",
    "            avg_sen_len=int(np.mean(np.array([len(s) for s in sens]))/2)\n",
    "            newtext=[]\n",
    "            for i, s in enumerate(sens):\n",
    "                newtext.append(s)\n",
    "                if i and i % 10 == 0:\n",
    "                    pred_sen=learner.predict(text=unknown_text, n_words=avg_sen_len)\n",
    "                    print(pred_sen)\n",
    "                    newtext.append(pred_sen)\n",
    "            gen_unknown_texts.append('\\n'.join(newtext))\n",
    "            '''\n",
    "            gen_unknown_texts.append(learn.predict(text=unknown_text, n_words=len(unknown_text)))\n",
    "\n",
    "            \n",
    "    if gen_unknown_texts:\n",
    "        if gendf is None:\n",
    "            gendf = pd.DataFrame(data={\"known\": known_texts, \n",
    "                                                  \"unknown\": gen_unknown_texts, \n",
    "                                                  \"problem\": problem, \n",
    "                                                  \"label\": lbls[0]})\n",
    "        else:\n",
    "            gendf=pd.concat(gendf, pd.DataFrame(data={\"known\": known_texts, \n",
    "                                                      \"unknown\": gen_unknown_texts, \n",
    "                                                      \"problem\": problem, \n",
    "                                                      \"label\": lbls[0]}))\n",
    "\n",
    "    if i == 20:\n",
    "        break\n",
    "df = pd.concat([df, gendf])\n",
    "\n"
   ]
  },
  {
   "cell_type": "code",
   "execution_count": null,
   "metadata": {},
   "outputs": [],
   "source": [
    "#Turn off once tuned, slow\n",
    "#\n",
    "#gen_data_crit = (TextList.from_df(gendf, path=model_files, cols='text')\n",
    "#    .no_split() \n",
    "#    .label_from_df(cols=\"label\")\n",
    "#    .databunch(bs=4))\n",
    "#crit_learner=text_classifier_learner(gen_data_crit,wd=0.03)  \n",
    "#crit_learner.fit_one_cycle(6, max_lr=1e-04, moms=(0.8, 0.7))"
   ]
  },
  {
   "cell_type": "code",
   "execution_count": 11,
   "metadata": {},
   "outputs": [],
   "source": [
    "\n",
    "            \n",
    "data_clas = (TextList.from_df(df, path=model_files, cols=['known', 'unknown'], vocab=data_lm.vocab)\n",
    "             #grab all the text files in path\n",
    "             .split_from_df(col='is_valid')\n",
    "             #split by train and valid folder (that only keeps 'train' and 'test' so no need to filter)\n",
    "             .label_from_df(cols='label')\n",
    "             .databunch(bs=bs))\n",
    "data_clas.save('tmp_clas')\n",
    "\n"
   ]
  },
  {
   "cell_type": "code",
   "execution_count": 12,
   "metadata": {},
   "outputs": [],
   "source": [
    "data_clas = TextClasDataBunch.load(model_files, 'tmp_clas', bs=bs)\n"
   ]
  },
  {
   "cell_type": "code",
   "execution_count": 14,
   "metadata": {},
   "outputs": [],
   "source": [
    "learn = text_classifier_learner(data_clas, drop_mult=0.8, wd=0.02)\n",
    "learn.load_encoder('fine_tuned_enc')\n",
    "learn.freeze()"
   ]
  },
  {
   "cell_type": "code",
   "execution_count": 15,
   "metadata": {},
   "outputs": [
    {
     "name": "stdout",
     "output_type": "stream",
     "text": [
      "LR Finder is complete, type {learner_name}.recorder.plot() to see the graph.\n"
     ]
    },
    {
     "data": {
      "image/png": "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\n",
      "text/plain": [
       "<Figure size 432x288 with 1 Axes>"
      ]
     },
     "metadata": {
      "needs_background": "light"
     },
     "output_type": "display_data"
    }
   ],
   "source": [
    "learn.lr_find()\n",
    "learn.recorder.plot()"
   ]
  },
  {
   "cell_type": "code",
   "execution_count": 16,
   "metadata": {},
   "outputs": [
    {
     "data": {
      "text/html": [
       "Total time: 01:58 <p><table style='width:300px; margin-bottom:10px'>\n",
       "  <tr>\n",
       "    <th>epoch</th>\n",
       "    <th>train_loss</th>\n",
       "    <th>valid_loss</th>\n",
       "    <th>accuracy</th>\n",
       "  </tr>\n",
       "  <tr>\n",
       "    <th>1</th>\n",
       "    <th>0.726769</th>\n",
       "    <th>0.709035</th>\n",
       "    <th>0.500000</th>\n",
       "  </tr>\n",
       "</table>\n"
      ],
      "text/plain": [
       "<IPython.core.display.HTML object>"
      ]
     },
     "metadata": {},
     "output_type": "display_data"
    }
   ],
   "source": [
    "learn.fit_one_cycle(1, slice(2e-2/(2.6**4),2e-2), moms=(0.8,0.7))"
   ]
  },
  {
   "cell_type": "code",
   "execution_count": 71,
   "metadata": {},
   "outputs": [
    {
     "data": {
      "text/html": [
       "Total time: 04:47 <p><table style='width:300px; margin-bottom:10px'>\n",
       "  <tr>\n",
       "    <th>epoch</th>\n",
       "    <th>train_loss</th>\n",
       "    <th>valid_loss</th>\n",
       "    <th>accuracy</th>\n",
       "  </tr>\n",
       "  <tr>\n",
       "    <th>1</th>\n",
       "    <th>0.493393</th>\n",
       "    <th>0.721403</th>\n",
       "    <th>0.627413</th>\n",
       "  </tr>\n",
       "</table>\n"
      ],
      "text/plain": [
       "<IPython.core.display.HTML object>"
      ]
     },
     "metadata": {},
     "output_type": "display_data"
    },
    {
     "name": "stdout",
     "output_type": "stream",
     "text": [
      "･ RAM: △Consumed △Peaked  Used Total | Exec time 0:04:47.928\n",
      "･ CPU:         0       1     3392 MB |\n",
      "･ GPU:        45    5866     1976 MB |\n"
     ]
    }
   ],
   "source": [
    "learn.save('first')\n",
    "learn.load('first');\n",
    "learn.freeze_to(-2)\n",
    "learn.fit_one_cycle(1, slice(5e-3/(2.6**4),5e-3), moms=(0.8,0.7), wd=0.1)"
   ]
  },
  {
   "cell_type": "code",
   "execution_count": 26,
   "metadata": {},
   "outputs": [
    {
     "data": {
      "text/html": [
       "Total time: 01:50 <p><table style='width:300px; margin-bottom:10px'>\n",
       "  <tr>\n",
       "    <th>epoch</th>\n",
       "    <th>train_loss</th>\n",
       "    <th>valid_loss</th>\n",
       "    <th>accuracy</th>\n",
       "  </tr>\n",
       "  <tr>\n",
       "    <th>1</th>\n",
       "    <th>0.457190</th>\n",
       "    <th>0.584689</th>\n",
       "    <th>0.679537</th>\n",
       "  </tr>\n",
       "</table>\n"
      ],
      "text/plain": [
       "<IPython.core.display.HTML object>"
      ]
     },
     "metadata": {},
     "output_type": "display_data"
    }
   ],
   "source": [
    "learn.save('second')\n",
    "learn.load('second');\n",
    "learn.freeze_to(-3)\n",
    "learn.fit_one_cycle(1, slice(3e-3/(2.6**4),3e-3), moms=(0.8,0.7))"
   ]
  },
  {
   "cell_type": "code",
   "execution_count": 27,
   "metadata": {},
   "outputs": [
    {
     "data": {
      "text/html": [
       "Total time: 02:04 <p><table style='width:300px; margin-bottom:10px'>\n",
       "  <tr>\n",
       "    <th>epoch</th>\n",
       "    <th>train_loss</th>\n",
       "    <th>valid_loss</th>\n",
       "    <th>accuracy</th>\n",
       "  </tr>\n",
       "  <tr>\n",
       "    <th>1</th>\n",
       "    <th>0.425833</th>\n",
       "    <th>0.588046</th>\n",
       "    <th>0.679537</th>\n",
       "  </tr>\n",
       "</table>\n"
      ],
      "text/plain": [
       "<IPython.core.display.HTML object>"
      ]
     },
     "metadata": {},
     "output_type": "display_data"
    }
   ],
   "source": [
    "learn.save('third')\n",
    "learn.load('third');\n",
    "learn.unfreeze()\n",
    "learn.fit_one_cycle(1, slice(1e-3/(2.6**4),1e-3), moms=(0.8,0.7))"
   ]
  },
  {
   "cell_type": "code",
   "execution_count": 28,
   "metadata": {},
   "outputs": [],
   "source": [
    "learn.save('res-0.679537')"
   ]
  },
  {
   "cell_type": "code",
   "execution_count": 86,
   "metadata": {},
   "outputs": [
    {
     "ename": "TypeError",
     "evalue": "load_pretrained() missing 1 required positional argument: 'itos_fname'",
     "output_type": "error",
     "traceback": [
      "\u001b[0;31m---------------------------------------------------------------------------\u001b[0m",
      "\u001b[0;31mTypeError\u001b[0m                                 Traceback (most recent call last)",
      "\u001b[0;32m<ipython-input-86-b80780f16c43>\u001b[0m in \u001b[0;36m<module>\u001b[0;34m\u001b[0m\n\u001b[0;32m----> 1\u001b[0;31m \u001b[0mlearn\u001b[0m\u001b[0;34m.\u001b[0m\u001b[0mload_pretrained\u001b[0m\u001b[0;34m(\u001b[0m\u001b[0;34m'res-0.679537'\u001b[0m\u001b[0;34m)\u001b[0m\u001b[0;34m\u001b[0m\u001b[0m\n\u001b[0m",
      "\u001b[0;31mTypeError\u001b[0m: load_pretrained() missing 1 required positional argument: 'itos_fname'"
     ]
    },
    {
     "name": "stdout",
     "output_type": "stream",
     "text": [
      "･ RAM: △Consumed △Peaked  Used Total | Exec time 0:00:00.049\n",
      "･ CPU:         0       0     3370 MB |\n",
      "･ GPU:      -279     280     1682 MB |\n"
     ]
    }
   ],
   "source": [
    "learn.load_pretrained('res-0.679537')"
   ]
  },
  {
   "cell_type": "code",
   "execution_count": null,
   "metadata": {},
   "outputs": [],
   "source": []
  }
 ],
 "metadata": {
  "colab": {
   "include_colab_link": true,
   "name": "pretrain_av.ipynb",
   "provenance": [],
   "toc_visible": true,
   "version": "0.3.2"
  },
  "kernelspec": {
   "display_name": "Python 3",
   "language": "python",
   "name": "python3"
  },
  "language_info": {
   "codemirror_mode": {
    "name": "ipython",
    "version": 3
   },
   "file_extension": ".py",
   "mimetype": "text/x-python",
   "name": "python",
   "nbconvert_exporter": "python",
   "pygments_lexer": "ipython3",
   "version": "3.6.6"
  }
 },
 "nbformat": 4,
 "nbformat_minor": 1
}
=======
  "nbformat": 4,
  "nbformat_minor": 0,
  "metadata": {
    "colab": {
      "name": "av.ipynb",
      "version": "0.3.2",
      "provenance": []
    },
    "kernelspec": {
      "name": "python3",
      "display_name": "Python 3"
    },
    "accelerator": "GPU"
  },
  "cells": [
    {
      "metadata": {
        "id": "iL-jpttJH0fG",
        "colab_type": "code",
        "colab": {
          "base_uri": "https://localhost:8080/",
          "height": 122
        },
        "outputId": "73b8b2c2-4220-44ec-dccf-8f6eac0abbdd"
      },
      "cell_type": "code",
      "source": [
        "from google.colab import drive\n",
        "drive.mount('/content/gdrive', force_remount=True)\n"
      ],
      "execution_count": 2,
      "outputs": [
        {
          "output_type": "stream",
          "text": [
            "Go to this URL in a browser: https://accounts.google.com/o/oauth2/auth?client_id=947318989803-6bn6qk8qdgf4n4g3pfee6491hc0brc4i.apps.googleusercontent.com&redirect_uri=urn%3Aietf%3Awg%3Aoauth%3A2.0%3Aoob&scope=email%20https%3A%2F%2Fwww.googleapis.com%2Fauth%2Fdocs.test%20https%3A%2F%2Fwww.googleapis.com%2Fauth%2Fdrive%20https%3A%2F%2Fwww.googleapis.com%2Fauth%2Fdrive.photos.readonly%20https%3A%2F%2Fwww.googleapis.com%2Fauth%2Fpeopleapi.readonly&response_type=code\n",
            "\n",
            "Enter your authorization code:\n",
            "··········\n",
            "Mounted at /content/gdrive\n"
          ],
          "name": "stdout"
        }
      ]
    },
    {
      "metadata": {
        "id": "uyMad0vHItmp",
        "colab_type": "text"
      },
      "cell_type": "markdown",
      "source": [
        "path = Path(base_dir + 'data/bears')\n",
        "\n",
        "dest = path/folder\n",
        "\n",
        "dest.mkdir(parents=True, exist_ok=True)"
      ]
    },
    {
      "metadata": {
        "id": "rk66t78hJC69",
        "colab_type": "code",
        "colab": {}
      },
      "cell_type": "code",
      "source": [
        "%reload_ext autoreload\n",
        "%autoreload 2\n",
        "%matplotlib inline\n",
        "\n",
        "from fastai.text import *\n",
        "from fastai import *\n",
        "import json\n",
        "import html\n",
        "import re\n",
        "import pickle\n",
        "import random\n",
        "import pandas as pd\n",
        "import numpy as np\n",
        "from pathlib import Path\n",
        "import sklearn\n",
        "from sklearn import model_selection\n",
        "from functools import partial\n",
        "from collections import Counter, defaultdict\n",
        "from pandas.io.json import json_normalize\n",
        "import numpy as np\n",
        "import torch\n",
        "import torch.nn as nn\n",
        "import torch.utils \n",
        "import torch.optim as optim\n",
        "import torch.optim.lr_scheduler as lr_scheduler\n",
        "from torch.utils.data import dataset, dataloader\n",
        "import torch.optim as optim\n",
        "import torch.nn.functional as F\n",
        "from nltk.tokenize import  sent_tokenize\n",
        "import time\n",
        "import math\n",
        "import sys\n",
        "import data\n",
        "import joblib\n",
        "from random import shuffle\n",
        "from itertools import permutations, combinations\n",
        "\n",
        "#path = Path(base_dir + 'data/PAN14')\n",
        "root_dir = \"/content/gdrive/My Drive/\"\n",
        "base_dir = root_dir + 'Colab Notebooks/'\n",
        "#path = Path(base_dir + '/PAN14/')\n",
        "\n",
        "\n",
        "\n",
        "token_files = base_dir+'PAN14/tokens/'\n",
        "model_files = base_dir+'PAN14/models/'\n",
        "bs=64\n",
        "TRAINDATAPATH = base_dir+\"PAN14/pan14_train_english-essays/\"\n",
        "TESTDATAPATH = base_dir+\"PAN14/pan14_test02_english-essays/\"\n",
        "FNAMES = ['known01','known02','known03','known04','known05', 'unknown']\n",
        "KCOLS=['known01','known02','known03','known04','known05']\n",
        "LABELCOL=\"answer\"\n",
        "UNKOWN=\"unknown\"\n",
        "np.random.seed=42\n",
        "BOD = 'x_bod' # beginning-of-doc tag\n",
        "\n",
        "re1 = re.compile(r'  +')\n",
        "\n",
        "def fixup(x):\n",
        "    x = x.replace('#39;', \"'\").replace('amp;', '&').replace('#146;', \"'\").replace(\n",
        "        'nbsp;', ' ').replace('#36;', '$').replace('\\\\n', \"\\n\").replace('quot;', \"'\").replace(\n",
        "        '<br />', \"\\n\").replace('\\\\\"', '\"').replace('<unk>','u_n').replace(' @.@ ','.').replace(\n",
        "        ' @-@ ','-').replace('\\\\', ' \\\\ ')\n",
        "    return re1.sub(' ', html.unescape(x))\n",
        "\n",
        "def read_dataset(path):\n",
        "    ds=pd.read_json(path+'/truth.json')\n",
        "    ds=json_normalize(ds['problems'])\n",
        "    ds['known01']=None\n",
        "    ds['known02']=None\n",
        "    ds['known03']=None\n",
        "    ds['known04']=None\n",
        "    ds['known05']=None\n",
        "    ds['unknown']=None\n",
        "    ds.set_index('name', drop=True, inplace=True)\n",
        "    ds=ds[['known01','known02','known03','known04','known05', 'unknown', 'answer']]\n",
        "    dirs = []\n",
        "    docs = []\n",
        "\n",
        "    for i, x in enumerate(os.walk(path)):\n",
        "        if i:\n",
        "            for fname in x[2]:\n",
        "                with open(path+dirs[i-1]+'/'+fname, 'r') as f:\n",
        "                    text = f.read().strip()\n",
        "                    doc = ' '.join(sent_tokenize(text)).strip()\n",
        "                    ds.loc[dirs[i-1],fname[:-4]]=doc\n",
        "        else:\n",
        "            dirs = x[1]\n",
        "\n",
        "    return ds\n",
        "\n",
        "def match_unknowns(path):\n",
        "    ds=pd.read_json(path+'/truth.json')\n",
        "    ds=json_normalize(ds['problems'])\n",
        "    ds['known01']=None\n",
        "    ds['known02']=None\n",
        "    ds['known03']=None\n",
        "    ds['known04']=None\n",
        "    ds['known05']=None\n",
        "    ds['unknown']=None\n",
        "    ds.set_index('name', drop=True, inplace=True)\n",
        "    ds=ds[['known01','known02','known03','known04','known05', 'unknown', 'answer']]\n",
        "    dirs = []\n",
        "    docs = []\n",
        "\n",
        "    ds = read_dataset(path)\n",
        "            \n",
        "    grouped=ds.groupby(['unknown'])\n",
        "    dupes=[]\n",
        "    for utext, group in grouped:\n",
        "        if len(group.index) > 1:\n",
        "            dupes.append(group)\n",
        "\n",
        "\n",
        "    newrows=pd.DataFrame(columns=['known01','known02','known03','known04','known05', 'unknown'])\n",
        "    for dupe in dupes:\n",
        "        dupe.reset_index(drop=True, inplace=True)\n",
        "        yes=dupe.loc[dupe.answer == \"Y\"]\n",
        "        yes.reset_index(drop=True, inplace=True)\n",
        "        no=dupe.loc[dupe.answer == \"N\"]\n",
        "        no.reset_index(drop=True, inplace=True)\n",
        "        for col in ['known01','known02','known03','known04','known05']:\n",
        "            if no[col] is not None:\n",
        "                newrows=newrows.append(pd.DataFrame(data={'known01':yes.known01,'known02':yes.known02,\n",
        "                                                          'known03':yes.known03, 'known04':yes.known04,\n",
        "                                                          'known05':yes.known05,'unknown':no[col], \n",
        "                                                          'answer':'N'}), sort=False)\n",
        "    newrows=newrows.dropna(subset=['unknown'])\n",
        "    df = pd.concat([ds, newrows])\n",
        "\n",
        "    return df\n",
        "\n",
        "\n",
        "def shuffle_text(text, n=4):\n",
        "    pars = [text[i:i+int(len(text)/n)] for i in range(0, len(text), int(len(text)/n))]\n",
        "    shuffle(pars)\n",
        "    return ''.join(pars)\n",
        "\n",
        "\n",
        "def load_doc_pairs(df, augment=False):\n",
        "   \n",
        "    s0s = []\n",
        "    s1s = []\n",
        "    labels = [1 if label == 'Y' else 0 for label in df[LABELCOL].tolist()]\n",
        "    \n",
        "    y=[]\n",
        "    unknowns = df[UNKOWN].tolist()\n",
        "    for i, label in enumerate(labels):\n",
        "        for col in KCOLS:\n",
        "            knowns = df[col].tolist()\n",
        "\n",
        "            s0 = knowns[i]\n",
        "            if s0 is not None:\n",
        "                s1 = unknowns[i]\n",
        "                s0s.append(s0)\n",
        "                s1s.append(s1)\n",
        "                y.append(label)\n",
        "                \n",
        "                if augment:\n",
        "                    s0inflated=shuffle_text(s0)\n",
        "                    s1inflated=shuffle_text(s1)\n",
        "                    s0s.append(s0inflated)\n",
        "                    s1s.append(s1inflated)\n",
        "                    y.append(label)\n",
        "    data = pd.DataFrame(data={\"known\":s0s, \"unknown\":s1s, \"label\":y}) \n",
        "    \n",
        "    return data\n",
        "\n",
        "\n",
        "\n"
      ],
      "execution_count": 0,
      "outputs": []
    },
    {
      "metadata": {
        "id": "Iyzkh8tsVH6J",
        "colab_type": "code",
        "colab": {
          "base_uri": "https://localhost:8080/",
          "height": 965
        },
        "outputId": "db65829b-ee96-4934-b016-1362a2461eaf"
      },
      "cell_type": "code",
      "source": [
        "\n",
        "df_train = read_dataset(TRAINDATAPATH)\n",
        "df_test = read_dataset(TESTDATAPATH)\n",
        "\n",
        "doc_pairs_train = load_doc_pairs(df_train, False)\n",
        "doc_pairs_test = load_doc_pairs(df_test, False)\n",
        "\n",
        "joblib.dump(doc_pairs_train, f'{model_files}traindf-b.pkl')\n",
        "joblib.dump(doc_pairs_test, f'{model_files}testdf-b.pkl')\n",
        "doc_pairs_train['is_valid'] = False\n",
        "doc_pairs_test['is_valid'] = True\n",
        "df = pd.concat([doc_pairs_train,doc_pairs_test]).sample(frac=1)\n",
        "joblib.dump(df, 'data.pkl')"
      ],
      "execution_count": 8,
      "outputs": [
        {
          "output_type": "error",
          "ename": "ValueError",
          "evalue": "ignored",
          "traceback": [
            "\u001b[0;31m---------------------------------------------------------------------------\u001b[0m",
            "\u001b[0;31mValueError\u001b[0m                                Traceback (most recent call last)",
            "\u001b[0;32m<ipython-input-8-f3efa3cc7111>\u001b[0m in \u001b[0;36m<module>\u001b[0;34m()\u001b[0m\n\u001b[1;32m      1\u001b[0m \u001b[0;34m\u001b[0m\u001b[0m\n\u001b[0;32m----> 2\u001b[0;31m \u001b[0mdf_train\u001b[0m \u001b[0;34m=\u001b[0m \u001b[0mread_dataset\u001b[0m\u001b[0;34m(\u001b[0m\u001b[0mTRAINDATAPATH\u001b[0m\u001b[0;34m)\u001b[0m\u001b[0;34m\u001b[0m\u001b[0;34m\u001b[0m\u001b[0m\n\u001b[0m\u001b[1;32m      3\u001b[0m \u001b[0mdf_test\u001b[0m \u001b[0;34m=\u001b[0m \u001b[0mread_dataset\u001b[0m\u001b[0;34m(\u001b[0m\u001b[0mTESTDATAPATH\u001b[0m\u001b[0;34m)\u001b[0m\u001b[0;34m\u001b[0m\u001b[0;34m\u001b[0m\u001b[0m\n\u001b[1;32m      4\u001b[0m \u001b[0;34m\u001b[0m\u001b[0m\n\u001b[1;32m      5\u001b[0m \u001b[0mdoc_pairs_train\u001b[0m \u001b[0;34m=\u001b[0m \u001b[0mload_doc_pairs\u001b[0m\u001b[0;34m(\u001b[0m\u001b[0mdf_train\u001b[0m\u001b[0;34m,\u001b[0m \u001b[0;32mFalse\u001b[0m\u001b[0;34m)\u001b[0m\u001b[0;34m\u001b[0m\u001b[0;34m\u001b[0m\u001b[0m\n",
            "\u001b[0;32m<ipython-input-7-a16fd0072dc0>\u001b[0m in \u001b[0;36mread_dataset\u001b[0;34m(path)\u001b[0m\n\u001b[1;32m     65\u001b[0m \u001b[0;34m\u001b[0m\u001b[0m\n\u001b[1;32m     66\u001b[0m \u001b[0;32mdef\u001b[0m \u001b[0mread_dataset\u001b[0m\u001b[0;34m(\u001b[0m\u001b[0mpath\u001b[0m\u001b[0;34m)\u001b[0m\u001b[0;34m:\u001b[0m\u001b[0;34m\u001b[0m\u001b[0;34m\u001b[0m\u001b[0m\n\u001b[0;32m---> 67\u001b[0;31m     \u001b[0mds\u001b[0m\u001b[0;34m=\u001b[0m\u001b[0mpd\u001b[0m\u001b[0;34m.\u001b[0m\u001b[0mread_json\u001b[0m\u001b[0;34m(\u001b[0m\u001b[0mpath\u001b[0m\u001b[0;34m+\u001b[0m\u001b[0;34m'/truth.json'\u001b[0m\u001b[0;34m)\u001b[0m\u001b[0;34m\u001b[0m\u001b[0;34m\u001b[0m\u001b[0m\n\u001b[0m\u001b[1;32m     68\u001b[0m     \u001b[0mds\u001b[0m\u001b[0;34m=\u001b[0m\u001b[0mjson_normalize\u001b[0m\u001b[0;34m(\u001b[0m\u001b[0mds\u001b[0m\u001b[0;34m[\u001b[0m\u001b[0;34m'problems'\u001b[0m\u001b[0;34m]\u001b[0m\u001b[0;34m)\u001b[0m\u001b[0;34m\u001b[0m\u001b[0;34m\u001b[0m\u001b[0m\n\u001b[1;32m     69\u001b[0m     \u001b[0mds\u001b[0m\u001b[0;34m[\u001b[0m\u001b[0;34m'known01'\u001b[0m\u001b[0;34m]\u001b[0m\u001b[0;34m=\u001b[0m\u001b[0;32mNone\u001b[0m\u001b[0;34m\u001b[0m\u001b[0;34m\u001b[0m\u001b[0m\n",
            "\u001b[0;32m/usr/local/lib/python3.6/dist-packages/pandas/io/json/json.py\u001b[0m in \u001b[0;36mread_json\u001b[0;34m(path_or_buf, orient, typ, dtype, convert_axes, convert_dates, keep_default_dates, numpy, precise_float, date_unit, encoding, lines, chunksize, compression)\u001b[0m\n\u001b[1;32m    364\u001b[0m         \u001b[0;32mreturn\u001b[0m \u001b[0mjson_reader\u001b[0m\u001b[0;34m\u001b[0m\u001b[0;34m\u001b[0m\u001b[0m\n\u001b[1;32m    365\u001b[0m \u001b[0;34m\u001b[0m\u001b[0m\n\u001b[0;32m--> 366\u001b[0;31m     \u001b[0;32mreturn\u001b[0m \u001b[0mjson_reader\u001b[0m\u001b[0;34m.\u001b[0m\u001b[0mread\u001b[0m\u001b[0;34m(\u001b[0m\u001b[0;34m)\u001b[0m\u001b[0;34m\u001b[0m\u001b[0;34m\u001b[0m\u001b[0m\n\u001b[0m\u001b[1;32m    367\u001b[0m \u001b[0;34m\u001b[0m\u001b[0m\n\u001b[1;32m    368\u001b[0m \u001b[0;34m\u001b[0m\u001b[0m\n",
            "\u001b[0;32m/usr/local/lib/python3.6/dist-packages/pandas/io/json/json.py\u001b[0m in \u001b[0;36mread\u001b[0;34m(self)\u001b[0m\n\u001b[1;32m    465\u001b[0m             )\n\u001b[1;32m    466\u001b[0m         \u001b[0;32melse\u001b[0m\u001b[0;34m:\u001b[0m\u001b[0;34m\u001b[0m\u001b[0;34m\u001b[0m\u001b[0m\n\u001b[0;32m--> 467\u001b[0;31m             \u001b[0mobj\u001b[0m \u001b[0;34m=\u001b[0m \u001b[0mself\u001b[0m\u001b[0;34m.\u001b[0m\u001b[0m_get_object_parser\u001b[0m\u001b[0;34m(\u001b[0m\u001b[0mself\u001b[0m\u001b[0;34m.\u001b[0m\u001b[0mdata\u001b[0m\u001b[0;34m)\u001b[0m\u001b[0;34m\u001b[0m\u001b[0;34m\u001b[0m\u001b[0m\n\u001b[0m\u001b[1;32m    468\u001b[0m         \u001b[0mself\u001b[0m\u001b[0;34m.\u001b[0m\u001b[0mclose\u001b[0m\u001b[0;34m(\u001b[0m\u001b[0;34m)\u001b[0m\u001b[0;34m\u001b[0m\u001b[0;34m\u001b[0m\u001b[0m\n\u001b[1;32m    469\u001b[0m         \u001b[0;32mreturn\u001b[0m \u001b[0mobj\u001b[0m\u001b[0;34m\u001b[0m\u001b[0;34m\u001b[0m\u001b[0m\n",
            "\u001b[0;32m/usr/local/lib/python3.6/dist-packages/pandas/io/json/json.py\u001b[0m in \u001b[0;36m_get_object_parser\u001b[0;34m(self, json)\u001b[0m\n\u001b[1;32m    482\u001b[0m         \u001b[0mobj\u001b[0m \u001b[0;34m=\u001b[0m \u001b[0;32mNone\u001b[0m\u001b[0;34m\u001b[0m\u001b[0;34m\u001b[0m\u001b[0m\n\u001b[1;32m    483\u001b[0m         \u001b[0;32mif\u001b[0m \u001b[0mtyp\u001b[0m \u001b[0;34m==\u001b[0m \u001b[0;34m'frame'\u001b[0m\u001b[0;34m:\u001b[0m\u001b[0;34m\u001b[0m\u001b[0;34m\u001b[0m\u001b[0m\n\u001b[0;32m--> 484\u001b[0;31m             \u001b[0mobj\u001b[0m \u001b[0;34m=\u001b[0m \u001b[0mFrameParser\u001b[0m\u001b[0;34m(\u001b[0m\u001b[0mjson\u001b[0m\u001b[0;34m,\u001b[0m \u001b[0;34m**\u001b[0m\u001b[0mkwargs\u001b[0m\u001b[0;34m)\u001b[0m\u001b[0;34m.\u001b[0m\u001b[0mparse\u001b[0m\u001b[0;34m(\u001b[0m\u001b[0;34m)\u001b[0m\u001b[0;34m\u001b[0m\u001b[0;34m\u001b[0m\u001b[0m\n\u001b[0m\u001b[1;32m    485\u001b[0m \u001b[0;34m\u001b[0m\u001b[0m\n\u001b[1;32m    486\u001b[0m         \u001b[0;32mif\u001b[0m \u001b[0mtyp\u001b[0m \u001b[0;34m==\u001b[0m \u001b[0;34m'series'\u001b[0m \u001b[0;32mor\u001b[0m \u001b[0mobj\u001b[0m \u001b[0;32mis\u001b[0m \u001b[0;32mNone\u001b[0m\u001b[0;34m:\u001b[0m\u001b[0;34m\u001b[0m\u001b[0;34m\u001b[0m\u001b[0m\n",
            "\u001b[0;32m/usr/local/lib/python3.6/dist-packages/pandas/io/json/json.py\u001b[0m in \u001b[0;36mparse\u001b[0;34m(self)\u001b[0m\n\u001b[1;32m    574\u001b[0m \u001b[0;34m\u001b[0m\u001b[0m\n\u001b[1;32m    575\u001b[0m         \u001b[0;32melse\u001b[0m\u001b[0;34m:\u001b[0m\u001b[0;34m\u001b[0m\u001b[0;34m\u001b[0m\u001b[0m\n\u001b[0;32m--> 576\u001b[0;31m             \u001b[0mself\u001b[0m\u001b[0;34m.\u001b[0m\u001b[0m_parse_no_numpy\u001b[0m\u001b[0;34m(\u001b[0m\u001b[0;34m)\u001b[0m\u001b[0;34m\u001b[0m\u001b[0;34m\u001b[0m\u001b[0m\n\u001b[0m\u001b[1;32m    577\u001b[0m \u001b[0;34m\u001b[0m\u001b[0m\n\u001b[1;32m    578\u001b[0m         \u001b[0;32mif\u001b[0m \u001b[0mself\u001b[0m\u001b[0;34m.\u001b[0m\u001b[0mobj\u001b[0m \u001b[0;32mis\u001b[0m \u001b[0;32mNone\u001b[0m\u001b[0;34m:\u001b[0m\u001b[0;34m\u001b[0m\u001b[0;34m\u001b[0m\u001b[0m\n",
            "\u001b[0;32m/usr/local/lib/python3.6/dist-packages/pandas/io/json/json.py\u001b[0m in \u001b[0;36m_parse_no_numpy\u001b[0;34m(self)\u001b[0m\n\u001b[1;32m    791\u001b[0m         \u001b[0;32mif\u001b[0m \u001b[0morient\u001b[0m \u001b[0;34m==\u001b[0m \u001b[0;34m\"columns\"\u001b[0m\u001b[0;34m:\u001b[0m\u001b[0;34m\u001b[0m\u001b[0;34m\u001b[0m\u001b[0m\n\u001b[1;32m    792\u001b[0m             self.obj = DataFrame(\n\u001b[0;32m--> 793\u001b[0;31m                 loads(json, precise_float=self.precise_float), dtype=None)\n\u001b[0m\u001b[1;32m    794\u001b[0m         \u001b[0;32melif\u001b[0m \u001b[0morient\u001b[0m \u001b[0;34m==\u001b[0m \u001b[0;34m\"split\"\u001b[0m\u001b[0;34m:\u001b[0m\u001b[0;34m\u001b[0m\u001b[0;34m\u001b[0m\u001b[0m\n\u001b[1;32m    795\u001b[0m             decoded = dict((str(k), v)\n",
            "\u001b[0;31mValueError\u001b[0m: Expected object or value"
          ]
        }
      ]
    }
  ]
}
>>>>>>> 36591926cc8b72b79b5f218925b85338e31134d5
