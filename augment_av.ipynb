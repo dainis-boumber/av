{
 "cells": [
  {
   "cell_type": "markdown",
   "metadata": {
    "colab_type": "text",
    "id": "view-in-github"
   },
   "source": [
    "<a href=\"https://colab.research.google.com/github/dainis-boumber/av/blob/master/pretrain_av.ipynb\" target=\"_parent\"><img src=\"https://colab.research.google.com/assets/colab-badge.svg\" alt=\"Open In Colab\"/></a>"
   ]
  },
  {
   "cell_type": "markdown",
   "metadata": {
    "colab_type": "text",
    "id": "ZNmeh0h4UYSR"
   },
   "source": [
    "# ULMFiT + Siamese Network for Sentence Vectors\n",
    "## Part One: Tokenizing\n",
    "This notebook will tokenize the sentences from the SNLI dataset for use in the next notebook\n",
    "\n",
    "### You must have the fastai library installed"
   ]
  },
  {
   "cell_type": "code",
   "execution_count": 15,
   "metadata": {
    "colab": {},
    "colab_type": "code",
    "id": "91TjIhFCUYSS"
   },
   "outputs": [],
   "source": [
    "%reload_ext autoreload\n",
    "%autoreload 2\n",
    "%matplotlib inline\n",
    "from ipyexperiments import *\n",
    "from fastai.text import *\n",
    "from fastai import *\n",
    "import json\n",
    "import html\n",
    "import re\n",
    "import pickle\n",
    "import random\n",
    "import pandas as pd\n",
    "import numpy as np\n",
    "from pathlib import Path\n",
    "import sklearn\n",
    "from sklearn import model_selection\n",
    "from functools import partial\n",
    "from collections import Counter, defaultdict\n",
    "from pandas.io.json import json_normalize\n",
    "import numpy as np\n",
    "import torch\n",
    "import torch.nn as nn\n",
    "import torch.utils \n",
    "import torch.optim as optim\n",
    "import torch.optim.lr_scheduler as lr_scheduler\n",
    "from torch.utils.data import dataset, dataloader\n",
    "import torch.optim as optim\n",
    "import torch.nn.functional as F\n",
    "from nltk.tokenize import  sent_tokenize\n",
    "import time\n",
    "import math\n",
    "import sys\n",
    "import data\n",
    "import joblib\n",
    "from random import shuffle\n",
    "from itertools import permutations, combinations\n",
    "\n",
    "token_files = './data/PAN14/tokens/'\n",
    "model_files = './data/PAN14/models/'\n",
    "\n",
    "TRAINDATAPATH = \"./data/PAN14/pan14_train_english-essays/\"\n",
    "TESTDATAPATH = \"./data/PAN14/pan14_test02_english-essays/\"\n",
    "FNAMES = ['known01','known02','known03','known04','known05', 'unknown']\n",
    "KCOLS=['known01','known02','known03','known04','known05']\n",
    "LABELCOL=\"answer\"\n",
    "UNKOWN=\"unknown\"\n",
    "np.random.seed=42"
   ]
  },
  {
   "cell_type": "code",
   "execution_count": 16,
   "metadata": {
    "colab": {},
    "colab_type": "code",
    "id": "O1A7heLLUYSZ"
   },
   "outputs": [],
   "source": [
    "BOD = 'x_bod' # beginning-of-doc tag\n",
    "\n",
    "re1 = re.compile(r'  +')\n",
    "\n",
    "def fixup(x):\n",
    "    x = x.replace('#39;', \"'\").replace('amp;', '&').replace('#146;', \"'\").replace(\n",
    "        'nbsp;', ' ').replace('#36;', '$').replace('\\\\n', \"\\n\").replace('quot;', \"'\").replace(\n",
    "        '<br />', \"\\n\").replace('\\\\\"', '\"').replace('<unk>','u_n').replace(' @.@ ','.').replace(\n",
    "        ' @-@ ','-').replace('\\\\', ' \\\\ ')\n",
    "    return re1.sub(' ', html.unescape(x))\n",
    "\n",
    "def read_dataset(path):\n",
    "    ds=pd.read_json(path+'/truth.json')\n",
    "    ds=json_normalize(ds['problems'])\n",
    "    ds['known01']=None\n",
    "    ds['known02']=None\n",
    "    ds['known03']=None\n",
    "    ds['known04']=None\n",
    "    ds['known05']=None\n",
    "    ds['unknown']=None\n",
    "    ds.set_index('name', drop=True, inplace=True)\n",
    "    ds=ds[['known01','known02','known03','known04','known05', 'unknown', 'answer']]\n",
    "    dirs = []\n",
    "    docs = []\n",
    "\n",
    "    for i, x in enumerate(os.walk(path)):\n",
    "        if i:\n",
    "            for fname in x[2]:\n",
    "                with open(path+dirs[i-1]+'/'+fname, 'r') as f:\n",
    "                    text = f.read().strip()\n",
    "                    doc = ' '.join(sent_tokenize(text)).strip()\n",
    "                    ds.loc[dirs[i-1],fname[:-4]]=doc\n",
    "        else:\n",
    "            dirs = x[1]\n",
    "\n",
    "    return ds\n",
    "\n",
    "def match_unknowns(path):\n",
    "    ds=pd.read_json(path+'/truth.json')\n",
    "    ds=json_normalize(ds['problems'])\n",
    "    ds['known01']=None\n",
    "    ds['known02']=None\n",
    "    ds['known03']=None\n",
    "    ds['known04']=None\n",
    "    ds['known05']=None\n",
    "    ds['unknown']=None\n",
    "    ds.set_index('name', drop=True, inplace=True)\n",
    "    ds=ds[['known01','known02','known03','known04','known05', 'unknown', 'answer']]\n",
    "    dirs = []\n",
    "    docs = []\n",
    "\n",
    "    ds = read_dataset(path)\n",
    "            \n",
    "    grouped=ds.groupby(['unknown'])\n",
    "    dupes=[]\n",
    "    for utext, group in grouped:\n",
    "        if len(group.index) > 1:\n",
    "            dupes.append(group)\n",
    "\n",
    "\n",
    "    newrows=pd.DataFrame(columns=['known01','known02','known03','known04','known05', 'unknown'])\n",
    "    for dupe in dupes:\n",
    "        dupe.reset_index(drop=True, inplace=True)\n",
    "        yes=dupe.loc[dupe.answer == \"Y\"]\n",
    "        yes.reset_index(drop=True, inplace=True)\n",
    "        no=dupe.loc[dupe.answer == \"N\"]\n",
    "        no.reset_index(drop=True, inplace=True)\n",
    "        for col in ['known01','known02','known03','known04','known05']:\n",
    "            if no[col] is not None:\n",
    "                newrows=newrows.append(pd.DataFrame(data={'known01':yes.known01,'known02':yes.known02,\n",
    "                                                          'known03':yes.known03, 'known04':yes.known04,\n",
    "                                                          'known05':yes.known05,'unknown':no[col], \n",
    "                                                          'answer':'N'}), sort=False)\n",
    "    newrows=newrows.dropna(subset=['unknown'])\n",
    "    df = pd.concat([ds, newrows])\n",
    "\n",
    "    return df\n",
    "\n",
    "\n",
    "def shuffle_text(text, n=4):\n",
    "    pars = [text[i:i+int(len(text)/n)] for i in range(0, len(text), int(len(text)/n))]\n",
    "    shuffle(pars)\n",
    "    return ''.join(pars)\n",
    "\n",
    "\n",
    "def load_doc_pairs(df, augment=False):\n",
    "   \n",
    "    s0s = []\n",
    "    s1s = []\n",
    "    labels = [1 if label == 'Y' else 0 for label in df[LABELCOL].tolist()]\n",
    "    \n",
    "    y=[]\n",
    "    unknowns = df[UNKOWN].tolist()\n",
    "    for i, label in enumerate(labels):\n",
    "        for col in KCOLS:\n",
    "            knowns = df[col].tolist()\n",
    "\n",
    "            s0 = knowns[i]\n",
    "            if s0 is not None:\n",
    "                s1 = unknowns[i]\n",
    "                s0s.append(s0)\n",
    "                s1s.append(s1)\n",
    "                y.append(label)\n",
    "                \n",
    "                if augment:\n",
    "                    s0inflated=shuffle_text(s0)\n",
    "                    s1inflated=shuffle_text(s1)\n",
    "                    s0s.append(s0inflated)\n",
    "                    s1s.append(s1inflated)\n",
    "                    y.append(label)\n",
    "    data = pd.DataFrame(data={\"known\":s0s, \"unknown\":s1s, \"label\":y}) \n",
    "    \n",
    "    return data\n",
    "\n",
    "\n",
    "\n",
    "df_train = read_dataset(TRAINDATAPATH)\n",
    "df_test = read_dataset(TESTDATAPATH)"
   ]
  },
  {
   "cell_type": "code",
   "execution_count": 17,
   "metadata": {},
   "outputs": [],
   "source": [
    "\n",
    "doc_pairs_train = load_doc_pairs(df_train, False)\n",
    "\n",
    "doc_pairs_val = load_doc_pairs(df_test, False)\n",
    "doc_pairs_test = load_doc_pairs(df_test, False)\n",
    "\n"
   ]
  },
  {
   "cell_type": "code",
   "execution_count": 18,
   "metadata": {},
   "outputs": [
    {
     "data": {
      "text/plain": [
       "['./data/PAN14/models/testdf-1.pkl']"
      ]
     },
     "execution_count": 18,
     "metadata": {},
     "output_type": "execute_result"
    }
   ],
   "source": [
    "joblib.dump(doc_pairs_train, f'{model_files}traindf-1.pkl')\n",
    "joblib.dump(doc_pairs_val, f'{model_files}valdf-1.pkl')\n",
    "joblib.dump(doc_pairs_test, f'{model_files}testdf-1.pkl')\n"
   ]
  },
  {
   "cell_type": "code",
   "execution_count": null,
   "metadata": {},
   "outputs": [],
   "source": [
    "doc_pairs_train.to_csv(f'{model_files}train.csv)"
   ]
  },
  {
   "cell_type": "code",
   "execution_count": 5,
   "metadata": {
    "colab": {},
    "colab_type": "code",
    "id": "VQxSVlicUYSf",
    "outputId": "1f5b035d-4b90-4ad3-c440-2cb960e2d70f"
   },
   "outputs": [],
   "source": [
    "\n",
    "\n",
    "\n",
    "# Language model data\n",
    "data_lm = TextLMDataBunch.from_df(model_files, doc_pairs_train, doc_pairs_val, text_cols=['known', 'unknown'],\n",
    "                                  label_cols=['label'], mark_fields=True, bs=64)\n",
    "\n",
    "data_lm.save()"
   ]
  },
  {
   "cell_type": "code",
   "execution_count": 9,
   "metadata": {
    "colab": {},
    "colab_type": "code",
    "id": "7hlEqcmpUYSu",
    "outputId": "001641f8-8e96-4379-bf16-37f1f7350c64"
   },
   "outputs": [
    {
     "name": "stdout",
     "output_type": "stream",
     "text": [
      "\n",
      "*** Experiment started with the Pytorch backend\n",
      "Device: ID 0, GeForce GTX 1070 (8117 RAM)\n",
      "\n",
      "\n",
      "*** Current state:\n",
      "RAM:  Used  Free  Total      Util\n",
      "CPU:  2590 57378  64352 MB   4.03% \n",
      "GPU:  1765  6351   8117 MB  21.75% \n",
      "\n",
      "\n",
      "･ RAM: △Consumed △Peaked  Used Total | Exec time 0:00:00.138\n",
      "･ CPU:         0       0     2590 MB |\n",
      "･ GPU:         0       0     1765 MB |\n",
      "\n",
      "IPyExperimentsPytorch: Finishing\n",
      "\n",
      "*** Experiment finished in 00:02:28 (elapsed wallclock time)\n",
      "\n",
      "*** Newly defined local variables:\n",
      "Deleted: learn\n",
      "\n",
      "*** Experiment memory:\n",
      "RAM:  Consumed     Reclaimed\n",
      "CPU:     124       0 MB (  0.00%)\n",
      "GPU:     805       0 MB (  0.00%)\n",
      "\n",
      "*** Current state:\n",
      "RAM:  Used  Free  Total      Util\n",
      "CPU:  2590 57379  64352 MB   4.03% \n",
      "GPU:  1765  6351   8117 MB  21.75% \n",
      "\n",
      "\n",
      "･ RAM: △Consumed △Peaked  Used Total | Exec time 0:00:01.055\n",
      "･ CPU:         0       0     2631 MB |\n",
      "･ GPU:        42       0     1807 MB |\n"
     ]
    }
   ],
   "source": [
    "\n",
    "exp1=IPyExperimentsPytorch()\n",
    "data_lm = TextLMDataBunch.load(model_files)\n",
    "learn = language_model_learner(data_lm, pretrained_model=URLs.WT103_1, drop_mult=0.7, metrics=[accuracy],\n",
    "                              callback_fns=ShowGraph)\n",
    "\n",
    "#learn.lr_find(start_lr=1e-07,end_lr=10, num_it=100)\n",
    "#learn.recorder.plot()\n"
   ]
  },
  {
   "cell_type": "code",
   "execution_count": 10,
   "metadata": {},
   "outputs": [
    {
     "data": {
      "text/html": [
       "Total time: 01:45 <p><table style='width:300px; margin-bottom:10px'>\n",
       "  <tr>\n",
       "    <th>epoch</th>\n",
       "    <th>train_loss</th>\n",
       "    <th>valid_loss</th>\n",
       "    <th>accuracy</th>\n",
       "  </tr>\n",
       "  <tr>\n",
       "    <th>1</th>\n",
       "    <th>3.838166</th>\n",
       "    <th>3.626829</th>\n",
       "    <th>0.307396</th>\n",
       "  </tr>\n",
       "  <tr>\n",
       "    <th>2</th>\n",
       "    <th>3.539490</th>\n",
       "    <th>3.556839</th>\n",
       "    <th>0.315221</th>\n",
       "  </tr>\n",
       "</table>\n"
      ],
      "text/plain": [
       "<IPython.core.display.HTML object>"
      ]
     },
     "metadata": {},
     "output_type": "display_data"
    },
    {
     "data": {
      "image/png": "[encoded data removed]",
      "text/plain": [
       "<Figure size 432x288 with 1 Axes>"
      ]
     },
     "metadata": {},
     "output_type": "display_data"
    },
    {
     "name": "stdout",
     "output_type": "stream",
     "text": [
      "･ RAM: △Consumed △Peaked  Used Total | Exec time 0:01:45.699\n",
      "･ CPU:         0       0     2631 MB |\n",
      "･ GPU:       193    1535     2001 MB |\n"
     ]
    }
   ],
   "source": [
    "learn.fit_one_cycle(2, max_lr=1e-02, moms=(0.8, 0.7))"
   ]
  },
  {
   "cell_type": "code",
   "execution_count": 56,
   "metadata": {},
   "outputs": [
    {
     "data": {
      "text/plain": [
       "0.326599"
      ]
     },
     "execution_count": 56,
     "metadata": {},
     "output_type": "execute_result"
    },
    {
     "name": "stdout",
     "output_type": "stream",
     "text": [
      "･ RAM: △Consumed △Peaked  Used Total | Exec time 0:00:00.006\n",
      "･ CPU:         0       0     2677 MB |\n",
      "･ GPU:         0       0     2772 MB |\n"
     ]
    }
   ],
   "source": [
    "0.326599"
   ]
  },
  {
   "cell_type": "code",
   "execution_count": 11,
   "metadata": {},
   "outputs": [
    {
     "name": "stdout",
     "output_type": "stream",
     "text": [
      "･ RAM: △Consumed △Peaked  Used Total | Exec time 0:00:00.106\n",
      "･ CPU:         0       0     2631 MB |\n",
      "･ GPU:         0       0     2001 MB |\n"
     ]
    }
   ],
   "source": [
    "learn.save('a4')"
   ]
  },
  {
   "cell_type": "code",
   "execution_count": 12,
   "metadata": {},
   "outputs": [
    {
     "data": {
      "text/html": [
       "Total time: 06:20 <p><table style='width:300px; margin-bottom:10px'>\n",
       "  <tr>\n",
       "    <th>epoch</th>\n",
       "    <th>train_loss</th>\n",
       "    <th>valid_loss</th>\n",
       "    <th>accuracy</th>\n",
       "  </tr>\n",
       "  <tr>\n",
       "    <th>1</th>\n",
       "    <th>3.375003</th>\n",
       "    <th>3.518180</th>\n",
       "    <th>0.319739</th>\n",
       "  </tr>\n",
       "  <tr>\n",
       "    <th>2</th>\n",
       "    <th>3.249561</th>\n",
       "    <th>3.460346</th>\n",
       "    <th>0.327076</th>\n",
       "  </tr>\n",
       "  <tr>\n",
       "    <th>3</th>\n",
       "    <th>3.029946</th>\n",
       "    <th>3.408157</th>\n",
       "    <th>0.335485</th>\n",
       "  </tr>\n",
       "  <tr>\n",
       "    <th>4</th>\n",
       "    <th>2.848306</th>\n",
       "    <th>3.379924</th>\n",
       "    <th>0.340204</th>\n",
       "  </tr>\n",
       "  <tr>\n",
       "    <th>5</th>\n",
       "    <th>2.683799</th>\n",
       "    <th>3.365690</th>\n",
       "    <th>0.343275</th>\n",
       "  </tr>\n",
       "  <tr>\n",
       "    <th>6</th>\n",
       "    <th>2.602946</th>\n",
       "    <th>3.366467</th>\n",
       "    <th>0.343415</th>\n",
       "  </tr>\n",
       "</table>\n"
      ],
      "text/plain": [
       "<IPython.core.display.HTML object>"
      ]
     },
     "metadata": {},
     "output_type": "display_data"
    },
    {
     "data": {
      "image/png": "[encoded data removed]",
      "text/plain": [
       "<Figure size 432x288 with 1 Axes>"
      ]
     },
     "metadata": {},
     "output_type": "display_data"
    },
    {
     "name": "stdout",
     "output_type": "stream",
     "text": [
      "･ RAM: △Consumed △Peaked  Used Total | Exec time 0:06:20.137\n",
      "･ CPU:         1       0     2632 MB |\n",
      "･ GPU:       548    1292     2550 MB |\n"
     ]
    }
   ],
   "source": [
    "\n",
    "learn.load('a4')\n",
    "learn.unfreeze()\n",
    "learn.fit_one_cycle(6, slice(5e-3),  moms=(0.8, 0.7))"
   ]
  },
  {
   "cell_type": "code",
   "execution_count": 13,
   "metadata": {},
   "outputs": [
    {
     "name": "stdout",
     "output_type": "stream",
     "text": [
      "･ RAM: △Consumed △Peaked  Used Total | Exec time 0:00:00.285\n",
      "･ CPU:         0       0     2632 MB |\n",
      "･ GPU:         0       0     2549 MB |\n"
     ]
    }
   ],
   "source": [
    "learn.save('a4lm')\n",
    "learn.save_encoder('a4enc')"
   ]
  },
  {
   "cell_type": "code",
   "execution_count": 14,
   "metadata": {},
   "outputs": [
    {
     "name": "stdout",
     "output_type": "stream",
     "text": [
      "･ RAM: △Consumed △Peaked  Used Total | Exec time 0:00:00.000\n",
      "･ CPU:         0       0     2632 MB |\n",
      "･ GPU:         0       0     2549 MB |\n",
      "\n",
      "IPyExperimentsPytorch: Finishing\n",
      "\n",
      "*** Experiment finished in 00:10:29 (elapsed wallclock time)\n",
      "\n",
      "*** Experiment memory:\n",
      "RAM:  Consumed     Reclaimed\n",
      "CPU:      41       0 MB (  0.00%)\n",
      "GPU:     784       0 MB (  0.00%)\n",
      "\n",
      "*** Current state:\n",
      "RAM:  Used  Free  Total      Util\n",
      "CPU:  2632 57303  64352 MB   4.09% \n",
      "GPU:  2549  5567   8117 MB  31.41% \n",
      "\n",
      "\n"
     ]
    }
   ],
   "source": [
    "del exp1"
   ]
  },
  {
   "cell_type": "code",
   "execution_count": null,
   "metadata": {},
   "outputs": [],
   "source": []
  }
 ],
 "metadata": {
  "colab": {
   "include_colab_link": true,
   "name": "pretrain_av.ipynb",
   "provenance": [],
   "toc_visible": true,
   "version": "0.3.2"
  },
  "kernelspec": {
   "display_name": "Python 3",
   "language": "python",
   "name": "python3"
  },
  "language_info": {
   "codemirror_mode": {
    "name": "ipython",
    "version": 3
   },
   "file_extension": ".py",
   "mimetype": "text/x-python",
   "name": "python",
   "nbconvert_exporter": "python",
   "pygments_lexer": "ipython3",
   "version": "3.6.6"
  }
 },
 "nbformat": 4,
 "nbformat_minor": 1
}
